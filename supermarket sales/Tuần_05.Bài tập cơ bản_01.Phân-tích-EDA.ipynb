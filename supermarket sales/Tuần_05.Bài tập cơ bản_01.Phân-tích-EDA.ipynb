{
 "cells": [
  {
   "cell_type": "code",
   "execution_count": 39,
   "id": "45650ea8",
   "metadata": {},
   "outputs": [],
   "source": [
    "import numpy as np\n",
    "from scipy import stats\n",
    "from matplotlib import pyplot as plt\n",
    "import csv\n",
    "import pandas as pd\n",
    "from colorama import Fore,Style\n",
    "np.set_printoptions(precision=3, suppress=True)\n"
   ]
  },
  {
   "cell_type": "code",
   "execution_count": 40,
   "id": "4e10c848",
   "metadata": {},
   "outputs": [],
   "source": [
    "file_path = 'supermarket_sales_vn.csv'\n",
    "\n",
    "row_list = []\n",
    "with open (file_path, newline='', encoding='utf8') as input_file:\n",
    "\tdata_file =  csv.reader(input_file, delimiter=',')\n",
    "\theader = next(data_file)\n",
    "\tfor row in data_file:\n",
    "\t\trow_list.append(row)\n"
   ]
  },
  {
   "cell_type": "code",
   "execution_count": 41,
   "id": "70986c0c",
   "metadata": {
    "scrolled": true
   },
   "outputs": [
    {
     "name": "stdout",
     "output_type": "stream",
     "text": [
      "1000\n",
      "(1000, 14)\n",
      "<class 'numpy.str_'>\n"
     ]
    }
   ],
   "source": [
    "print(len(row_list))\n",
    "print(np.shape(row_list))\n",
    "row_list = np.array(row_list)\n",
    "# print(row_list.T[0])\n",
    "print(type(row_list.T[5][0]))"
   ]
  },
  {
   "cell_type": "code",
   "execution_count": 42,
   "id": "d47c9771",
   "metadata": {},
   "outputs": [],
   "source": [
    "with open('DataScience01_Bai1_2.5_NguyenBuiHoangLong.txt','w',encoding='utf8') as file:\n",
    "    file.write(f\"Số lượng hàng - cột tương ứng là: {np.shape(row_list)}\\n\")\n",
    "    file.write(f\"Số lượng dòng của tập dữ liệu là:{len(row_list)}\\n\")\n",
    "    file.write(\"Tên\\t - Ý nghĩa\\t - Loại dữ liệu\\n\")\n",
    "    file.write(\"\\tInvoice ID - Mã hóa đơn phiếu bán hàng - str type\\n\")\n",
    "    file.write(\"\\tCity - Thành phố - str type\\n\")\n",
    "    file.write('\\tCustormer - Phân loại nhóm khách hàng - str type\\n')\n",
    "    file.write('\\tGender - Giới tính - str type\\n')\n",
    "    file.write('\\tProduct line - Nhóm sản phẩm - str type\\n')\n",
    "    file.write('\\tUnit price - Giá của mỗi sản phẩm - float type\\n')\n",
    "    file.write('\\tQuantity - Số lượng sản phẩm bán ra - int type\\n')\n",
    "    file.write('\\tTax 5% - Thuế phí cho khách hàng mua - float type\\n')\n",
    "    file.write('\\tTotal - Tổng giá bao gồm thuế - float type\\n')\n",
    "    file.write('\\tDate - Ngày bán ra sản phẩm - str type\\n')\n",
    "    file.write('\\tTime - Giờ bán ra sản phẩm - str type\\n')\n",
    "    file.write('\\tPayment - Hình thức chi trả - str type\\n')\n",
    "    file.write('\\tcogs - Giá vốn mặt hành - float type\\n')\n",
    "    file.write('\\tRating - Đánh giá sản phẩm - float type\\n')"
   ]
  },
  {
   "cell_type": "markdown",
   "id": "b5627193",
   "metadata": {},
   "source": [
    "# $\\color{red}{\\text{BÀI 3}}$\n",
    "\n"
   ]
  },
  {
   "cell_type": "markdown",
   "id": "07e6f056",
   "metadata": {},
   "source": [
    "# Về giá"
   ]
  },
  {
   "cell_type": "code",
   "execution_count": 43,
   "id": "a7ec5bce",
   "metadata": {},
   "outputs": [
    {
     "name": "stdout",
     "output_type": "stream",
     "text": [
      "[74.69 15.28 46.33 58.22 86.31 85.39 68.84 73.56 36.26 54.84]\n"
     ]
    }
   ],
   "source": [
    "# min, max, range, mean, meadian, mode (nếu có), var, std, quantiles, 95% CI,\n",
    "price_list = np.array([float(row[5]) for row in row_list])\n",
    "print(price_list[0:10])"
   ]
  },
  {
   "cell_type": "code",
   "execution_count": 44,
   "id": "c3520c5c",
   "metadata": {},
   "outputs": [
    {
     "name": "stdout",
     "output_type": "stream",
     "text": [
      "min price: 10.08\n",
      "max price: 99.96\n",
      "mean price: 55.67213\n",
      "median price: 55.230000000000004\n",
      "mode price: 99.51059999999998\n",
      "var of price list: 701.2633659631\n",
      "std of price list: 26.481377720260326\n",
      "quantile of price list: [32.875 55.23  77.935]\n",
      "95% CI of price: (54.03000609672037, 57.314253903279635)\n"
     ]
    },
    {
     "data": {
      "image/png": "[encoded data removed]",
      "text/plain": [
       "<Figure size 432x288 with 1 Axes>"
      ]
     },
     "metadata": {
      "needs_background": "light"
     },
     "output_type": "display_data"
    }
   ],
   "source": [
    "min_price = np.min(price_list)\n",
    "print('min price:',min_price)\n",
    "max_price = np.max(price_list)\n",
    "print('max price:',max_price)\n",
    "mean_price = np.mean(price_list)\n",
    "print('mean price:',mean_price)\n",
    "med_price = np.median(price_list)\n",
    "print('median price:',med_price)\n",
    "hist_price, bins_price = np.histogram(price_list,bins=100)\n",
    "mode_idx = np.argmax(hist_price)\n",
    "mode_price = np.mean([bins_price[mode_idx],bins_price[mode_idx+1]])\n",
    "print('mode price:',mode_price)\n",
    "var_price = np.var(price_list)\n",
    "print('var of price list:',var_price)\n",
    "std_price = np.std(price_list)\n",
    "print('std of price list:',std_price)\n",
    "quantiles_price = np.quantile(price_list,[0.25,0.5,0.75])\n",
    "print('quantile of price list:', quantiles_price)\n",
    "CI_95 = stats.norm.interval(alpha=0.95, loc=np.mean(price_list), scale=stats.sem(price_list))\n",
    "print('95% CI of price:',CI_95)\n",
    "fig,ax =  plt.subplots(figsize=(6,4))\n",
    "ax.hist(price_list,bins=50)\n",
    "ax.set_title('Hist of Price',weight='bold',color='r')\n",
    "ax.set_xlabel('Price')\n",
    "ax.set_ylabel('Number of Appearances')\n",
    "plt.show()"
   ]
  },
  {
   "cell_type": "code",
   "execution_count": 45,
   "id": "49227169",
   "metadata": {},
   "outputs": [
    {
     "name": "stdout",
     "output_type": "stream",
     "text": [
      "[12.  28.3]\n"
     ]
    },
    {
     "data": {
      "image/png": "[encoded data removed]",
      "text/plain": [
       "<Figure size 432x288 with 1 Axes>"
      ]
     },
     "metadata": {
      "needs_background": "light"
     },
     "output_type": "display_data"
    }
   ],
   "source": [
    "import numpy as np\n",
    "import scipy.stats as st\n",
    "\n",
    "#define sample data\n",
    "data = [12, 12, 13, 13, 15, 16, 17, 22, 23, 25, 26, 27, 28, 28, 29]\n",
    "\n",
    "#create 95% confidence interval for population mean weight\n",
    "st.t.interval(alpha=0.95, df=len(data)-1, loc=np.mean(data), scale=st.sem(data)) \n",
    "print(np.quantile(data,[0.05,0.95]))\n",
    "plt.hist(data,bins=5)\n",
    "plt.show()"
   ]
  },
  {
   "cell_type": "markdown",
   "id": "bbf0c100",
   "metadata": {},
   "source": [
    "# Số lượng đơn"
   ]
  },
  {
   "cell_type": "code",
   "execution_count": 46,
   "id": "2a1b63a9",
   "metadata": {},
   "outputs": [],
   "source": [
    "quantity_list = []\n",
    "quantity_list = [row[6] for row in row_list]"
   ]
  },
  {
   "cell_type": "code",
   "execution_count": 47,
   "id": "95e7cad6",
   "metadata": {},
   "outputs": [
    {
     "name": "stderr",
     "output_type": "stream",
     "text": [
      "C:\\Users\\Lenovo\\anaconda3\\lib\\site-packages\\numpy\\core\\numeric.py:2446: FutureWarning: elementwise comparison failed; returning scalar instead, but in the future will perform elementwise comparison\n",
      "  return bool(asarray(a1 == a2).all())\n"
     ]
    },
    {
     "data": {
      "text/plain": [
       "count    1000.000000\n",
       "mean        5.510000\n",
       "std         2.923431\n",
       "min         1.000000\n",
       "25%         3.000000\n",
       "50%         5.000000\n",
       "75%         8.000000\n",
       "max        10.000000\n",
       "Name: Quantity basic EDA, dtype: float64"
      ]
     },
     "execution_count": 47,
     "metadata": {},
     "output_type": "execute_result"
    }
   ],
   "source": [
    "quantity_list = pd.Series(data=quantity_list, dtype='int',name='Quantity basic EDA')\n",
    "quantity_list.describe()"
   ]
  },
  {
   "cell_type": "code",
   "execution_count": 48,
   "id": "b2762e00",
   "metadata": {},
   "outputs": [
    {
     "data": {
      "text/plain": [
       "ModeResult(mode=array([10]), count=array([119]))"
      ]
     },
     "execution_count": 48,
     "metadata": {},
     "output_type": "execute_result"
    }
   ],
   "source": [
    "stats.mode(quantity_list.values)"
   ]
  },
  {
   "cell_type": "code",
   "execution_count": 49,
   "id": "45e6d0b2",
   "metadata": {},
   "outputs": [
    {
     "data": {
      "text/plain": [
       "5.0"
      ]
     },
     "execution_count": 49,
     "metadata": {},
     "output_type": "execute_result"
    }
   ],
   "source": [
    "np.median(quantity_list.values)"
   ]
  },
  {
   "cell_type": "code",
   "execution_count": 50,
   "id": "fda01418",
   "metadata": {},
   "outputs": [
    {
     "data": {
      "image/png": "[encoded data removed]",
      "text/plain": [
       "<Figure size 432x288 with 1 Axes>"
      ]
     },
     "metadata": {
      "needs_background": "light"
     },
     "output_type": "display_data"
    },
    {
     "name": "stdout",
     "output_type": "stream",
     "text": [
      "95% CI of quantity: (5.32858743340383, 5.69141256659617)\n"
     ]
    }
   ],
   "source": [
    "quantity_list.plot(kind='hist',bins=10)\n",
    "plt.legend()\n",
    "plt.show()\n",
    "\n",
    "CI_95_quantity = stats.t.interval(alpha = 0.95, df=len(quantity_list.values)-1,\n",
    "                                  loc=np.mean(quantity_list.values), scale=stats.sem(quantity_list.values))\n",
    "print('95% CI of quantity:', CI_95_quantity)"
   ]
  },
  {
   "cell_type": "markdown",
   "id": "b72372c4",
   "metadata": {},
   "source": [
    "# Tổng đơn"
   ]
  },
  {
   "cell_type": "code",
   "execution_count": 51,
   "id": "62d0944a",
   "metadata": {
    "scrolled": true
   },
   "outputs": [
    {
     "data": {
      "text/plain": [
       "count    1000.000000\n",
       "mean      322.966749\n",
       "std       245.885335\n",
       "min        10.678500\n",
       "25%       124.422375\n",
       "50%       253.848000\n",
       "75%       471.350250\n",
       "max      1042.650000\n",
       "Name: Total basic EDA, dtype: float64"
      ]
     },
     "execution_count": 51,
     "metadata": {},
     "output_type": "execute_result"
    }
   ],
   "source": [
    "total_list = [row[8] for row in row_list]\n",
    "total_list = pd.Series(data=total_list,name='Total basic EDA',dtype='float')\n",
    "total_list.describe()"
   ]
  },
  {
   "cell_type": "code",
   "execution_count": 52,
   "id": "e9164d1d",
   "metadata": {},
   "outputs": [
    {
     "data": {
      "text/plain": [
       "ModeResult(mode=array([87.234]), count=array([2]))"
      ]
     },
     "execution_count": 52,
     "metadata": {},
     "output_type": "execute_result"
    }
   ],
   "source": [
    "stats.mode(total_list.values)"
   ]
  },
  {
   "cell_type": "code",
   "execution_count": 53,
   "id": "dce36f3c",
   "metadata": {},
   "outputs": [
    {
     "name": "stdout",
     "output_type": "stream",
     "text": [
      "mode total: 77.7566475\n",
      "variance of total 60399.138419699506\n"
     ]
    }
   ],
   "source": [
    "total_listm = [float(row[8]) for row in row_list]\n",
    "hist_total, bins_total = np.histogram(total_listm,bins=100)\n",
    "mode_idx = np.argmax(hist_total)\n",
    "mode_total = np.mean([bins_total[mode_idx],bins_total[mode_idx+1]])\n",
    "print('mode total:',mode_total)\n",
    "print('variance of total',np.var(total_list.values))"
   ]
  },
  {
   "cell_type": "code",
   "execution_count": 54,
   "id": "72fcd239",
   "metadata": {
    "scrolled": false
   },
   "outputs": [
    {
     "data": {
      "image/png": "[encoded data removed]",
      "text/plain": [
       "<Figure size 432x288 with 1 Axes>"
      ]
     },
     "metadata": {
      "needs_background": "light"
     },
     "output_type": "display_data"
    },
    {
     "name": "stdout",
     "output_type": "stream",
     "text": [
      "95% CI of total\n"
     ]
    },
    {
     "data": {
      "text/plain": [
       "(307.7084118264187, 338.2250861735813)"
      ]
     },
     "execution_count": 54,
     "metadata": {},
     "output_type": "execute_result"
    }
   ],
   "source": [
    "total_list.plot(kind='hist')\n",
    "plt.legend()\n",
    "plt.show()\n",
    "\n",
    "data = total_list.values\n",
    "print('95% CI of total')\n",
    "stats.t.interval(alpha=0.95, df=len(data)-1,loc=np.mean(data), scale=st.sem(data)) "
   ]
  },
  {
   "cell_type": "markdown",
   "id": "7575a123",
   "metadata": {},
   "source": [
    "# Tax"
   ]
  },
  {
   "cell_type": "code",
   "execution_count": 55,
   "id": "9eb91f50",
   "metadata": {},
   "outputs": [
    {
     "data": {
      "text/plain": [
       "count    1000.000000\n",
       "mean       15.379369\n",
       "std        11.708825\n",
       "min         0.508500\n",
       "25%         5.924875\n",
       "50%        12.088000\n",
       "75%        22.445250\n",
       "max        49.650000\n",
       "Name: Tax basic EDA, dtype: float64"
      ]
     },
     "execution_count": 55,
     "metadata": {},
     "output_type": "execute_result"
    }
   ],
   "source": [
    "tax = [row[7] for row in row_list]\n",
    "tax = pd.Series(data=tax,name='Tax basic EDA',dtype='float')\n",
    "tax.describe()"
   ]
  },
  {
   "cell_type": "code",
   "execution_count": 56,
   "id": "db18d9a3",
   "metadata": {},
   "outputs": [
    {
     "data": {
      "text/plain": [
       "ModeResult(mode=array([4.154]), count=array([2]))"
      ]
     },
     "execution_count": 56,
     "metadata": {},
     "output_type": "execute_result"
    }
   ],
   "source": [
    "stats.mode(tax.values)"
   ]
  },
  {
   "cell_type": "code",
   "execution_count": 57,
   "id": "279882f8",
   "metadata": {},
   "outputs": [
    {
     "data": {
      "image/png": "[encoded data removed]",
      "text/plain": [
       "<Figure size 432x288 with 1 Axes>"
      ]
     },
     "metadata": {
      "needs_background": "light"
     },
     "output_type": "display_data"
    },
    {
     "name": "stdout",
     "output_type": "stream",
     "text": [
      "95% CI of tax (14.652781515543747, 16.10595648445625)\n",
      "median of tax 12.088000000000001\n"
     ]
    }
   ],
   "source": [
    "tax.plot(kind='hist')\n",
    "plt.legend()\n",
    "plt.show()\n",
    "data = tax.values\n",
    "CI_95_tax = stats.t.interval(alpha=0.95, df=len(data)-1, loc=np.mean(data), scale=stats.sem(data)) \n",
    "print('95% CI of tax',CI_95_tax)\n",
    "print('median of tax',np.median(tax.values))"
   ]
  },
  {
   "cell_type": "markdown",
   "id": "74f5fda4",
   "metadata": {},
   "source": [
    "# cogs"
   ]
  },
  {
   "cell_type": "code",
   "execution_count": 58,
   "id": "54c527ea",
   "metadata": {},
   "outputs": [
    {
     "data": {
      "text/plain": [
       "count    1000.00000\n",
       "mean      307.58738\n",
       "std       234.17651\n",
       "min        10.17000\n",
       "25%       118.49750\n",
       "50%       241.76000\n",
       "75%       448.90500\n",
       "max       993.00000\n",
       "Name: cogs basic EDA, dtype: float64"
      ]
     },
     "execution_count": 58,
     "metadata": {},
     "output_type": "execute_result"
    }
   ],
   "source": [
    "cogs = [row[12] for row in row_list]\n",
    "cogs = pd.Series(data=cogs,name='cogs basic EDA',dtype='float')\n",
    "cogs.describe()"
   ]
  },
  {
   "cell_type": "code",
   "execution_count": 59,
   "id": "513b4c28",
   "metadata": {},
   "outputs": [
    {
     "data": {
      "image/png": "[encoded data removed]",
      "text/plain": [
       "<Figure size 432x288 with 1 Axes>"
      ]
     },
     "metadata": {
      "needs_background": "light"
     },
     "output_type": "display_data"
    },
    {
     "name": "stdout",
     "output_type": "stream",
     "text": [
      "mode of cogs: ModeResult(mode=array([83.08]), count=array([2]))\n",
      "variance of cogs 54783.7990201356\n",
      "95% CI of cogs (293.05563031087496, 322.11912968912503)\n",
      "median of cogs 241.76\n"
     ]
    }
   ],
   "source": [
    "cogs.plot(kind='hist')\n",
    "plt.legend()\n",
    "plt.show()\n",
    "data = cogs.values\n",
    "print('mode of cogs:',stats.mode(data))\n",
    "print('variance of cogs',np.var(data))\n",
    "mode_cogs = stats.t.interval(alpha=0.95, df=len(data)-1, loc=np.mean(data), scale=stats.sem(data)) \n",
    "print('95% CI of cogs',mode_cogs)\n",
    "print('median of cogs',np.median(cogs))"
   ]
  },
  {
   "cell_type": "markdown",
   "id": "f4e8fd96",
   "metadata": {},
   "source": [
    "# rating"
   ]
  },
  {
   "cell_type": "code",
   "execution_count": 60,
   "id": "30dd3277",
   "metadata": {},
   "outputs": [
    {
     "data": {
      "text/plain": [
       "count    1000.00000\n",
       "mean        6.97270\n",
       "std         1.71858\n",
       "min         4.00000\n",
       "25%         5.50000\n",
       "50%         7.00000\n",
       "75%         8.50000\n",
       "max        10.00000\n",
       "Name: Rating basic EDA, dtype: float64"
      ]
     },
     "execution_count": 60,
     "metadata": {},
     "output_type": "execute_result"
    }
   ],
   "source": [
    "rating = [row[13] for row in row_list]\n",
    "rating = pd.Series(data=rating, name='Rating basic EDA',dtype='float')\n",
    "rating.describe()"
   ]
  },
  {
   "cell_type": "code",
   "execution_count": 61,
   "id": "301bfa12",
   "metadata": {
    "scrolled": true
   },
   "outputs": [
    {
     "data": {
      "image/png": "[encoded data removed]",
      "text/plain": [
       "<Figure size 432x288 with 1 Axes>"
      ]
     },
     "metadata": {
      "needs_background": "light"
     },
     "output_type": "display_data"
    },
    {
     "name": "stdout",
     "output_type": "stream",
     "text": [
      "Mode of rating: 6.7\n",
      "Variance of rating 2.95056471\n",
      "95% CI of rating: (6.8660540400823775, 7.079345959917622)\n",
      "median of rating 7.0\n"
     ]
    }
   ],
   "source": [
    "rating.plot(kind='hist')\n",
    "plt.legend()\n",
    "plt.show()\n",
    "\n",
    "data = rating.values\n",
    "freq,bins = np.histogram(data)\n",
    "idx = np.argmax(freq)\n",
    "mode_rating = np.mean([bins[idx],bins[idx+1]])\n",
    "print('Mode of rating:',mode_rating)\n",
    "print('Variance of rating',np.var(data))\n",
    "CI_95_rating = stats.t.interval(alpha=0.95, df=len(data)-1, loc=np.mean(data), scale=stats.sem(data) )\n",
    "print('95% CI of rating:',CI_95_rating)\n",
    "print('median of rating',np.median(rating))"
   ]
  },
  {
   "cell_type": "markdown",
   "id": "c80dcb3b",
   "metadata": {},
   "source": [
    "#  $\\color{red}{\\text{BÀI 4}}$"
   ]
  },
  {
   "cell_type": "markdown",
   "id": "0d48ee0f",
   "metadata": {},
   "source": [
    "# Theo chi nhánh"
   ]
  },
  {
   "cell_type": "code",
   "execution_count": 62,
   "id": "2058d09c",
   "metadata": {},
   "outputs": [],
   "source": [
    "quantity_HCM = pd.Series(data=[row[6] for row in row_list if row[1]=='TP HCM'],dtype='int',name='Đơn hàng HCM')\n",
    "quantity_HN = pd.Series(data=[row[6] for row in row_list if row[1]=='Hà Nội'], dtype='int', name='Đơn hàng Hà Nội')"
   ]
  },
  {
   "cell_type": "code",
   "execution_count": 63,
   "id": "f1f2abe4",
   "metadata": {},
   "outputs": [
    {
     "name": "stdout",
     "output_type": "stream",
     "text": [
      "Tổng đơn hàng HCM: 2758\n",
      "Tổng đơn hàng Hà Nội 1460\n"
     ]
    }
   ],
   "source": [
    "print(\"Tổng đơn hàng HCM:\",np.sum(quantity_HCM.values))\n",
    "print(\"Tổng đơn hàng Hà Nội\",np.sum(quantity_HN.values))"
   ]
  },
  {
   "cell_type": "code",
   "execution_count": 64,
   "id": "2fcb59dc",
   "metadata": {},
   "outputs": [],
   "source": [
    "sum_quantity_HCM = np.sum(quantity_HCM.values)\n",
    "sum_quantity_HN = np.sum(quantity_HN.values)\n",
    "quantity_chinhanh = pd.Series(data=[sum_quantity_HCM,sum_quantity_HN],name='Tổng đơn hàng theo chi nhánh')"
   ]
  },
  {
   "cell_type": "code",
   "execution_count": 65,
   "id": "013ee634",
   "metadata": {},
   "outputs": [
    {
     "data": {
      "image/png": "[encoded data removed]",
      "text/plain": [
       "<Figure size 432x432 with 1 Axes>"
      ]
     },
     "metadata": {},
     "output_type": "display_data"
    }
   ],
   "source": [
    "quantity_chinhanh.plot(kind='pie',figsize=(6,6), labels=['Hồ Chí Minh','Hà Nội'],autopct='%.2f%%')\n",
    "plt.legend()\n",
    "plt.show()"
   ]
  },
  {
   "cell_type": "markdown",
   "id": "d5d35cd4",
   "metadata": {},
   "source": [
    "# Theo giới tính"
   ]
  },
  {
   "cell_type": "code",
   "execution_count": 66,
   "id": "fdfa8f37",
   "metadata": {},
   "outputs": [
    {
     "name": "stderr",
     "output_type": "stream",
     "text": [
      "C:\\Users\\Lenovo\\anaconda3\\lib\\site-packages\\numpy\\core\\numeric.py:2446: FutureWarning: elementwise comparison failed; returning scalar instead, but in the future will perform elementwise comparison\n",
      "  return bool(asarray(a1 == a2).all())\n"
     ]
    }
   ],
   "source": [
    "quantity_nam = pd.Series(data=[row[6] for row in row_list if row[3]=='Nam'],dtype=int)\n",
    "quantity_nu = pd.Series(data=[row[6] for row in row_list if row[3]=='Nữ'],dtype=int)"
   ]
  },
  {
   "cell_type": "code",
   "execution_count": 67,
   "id": "3e4b8f40",
   "metadata": {},
   "outputs": [
    {
     "name": "stdout",
     "output_type": "stream",
     "text": [
      "Tổng đơn hàng của nam: 2641\n",
      "Tổng đơn hàng của nữ 2869\n"
     ]
    }
   ],
   "source": [
    "sum_quantity_nam = np.sum(quantity_nam.values)\n",
    "sum_quantity_nu = np.sum(quantity_nu.values)\n",
    "\n",
    "print('Tổng đơn hàng của nam:',sum_quantity_nam)\n",
    "print('Tổng đơn hàng của nữ',sum_quantity_nu)"
   ]
  },
  {
   "cell_type": "code",
   "execution_count": 68,
   "id": "0d4d4b9a",
   "metadata": {},
   "outputs": [
    {
     "data": {
      "image/png": "[encoded data removed]",
      "text/plain": [
       "<Figure size 432x432 with 1 Axes>"
      ]
     },
     "metadata": {},
     "output_type": "display_data"
    }
   ],
   "source": [
    "quantity_gioitinh = pd.Series(data=[sum_quantity_nam,sum_quantity_nu],dtype=int,name='Tổng đơn theo giới tính')\n",
    "quantity_gioitinh.plot(kind='pie',labels=['Nam','Nữ'],autopct='%.2f%%',figsize=(6,6))\n",
    "plt.show()"
   ]
  },
  {
   "cell_type": "markdown",
   "id": "730c71a0",
   "metadata": {},
   "source": [
    "# Theo loại sản phẩm"
   ]
  },
  {
   "cell_type": "code",
   "execution_count": 69,
   "id": "316acf45",
   "metadata": {},
   "outputs": [],
   "source": [
    "loai_san_pham = np.unique([row[4] for row in row_list])"
   ]
  },
  {
   "cell_type": "code",
   "execution_count": 70,
   "id": "a10ead08",
   "metadata": {},
   "outputs": [],
   "source": [
    "list_sp = []\n",
    "for idx,name in enumerate(loai_san_pham):\n",
    "    name = []\n",
    "    list_sp.append(name)"
   ]
  },
  {
   "cell_type": "code",
   "execution_count": 71,
   "id": "3c93ea79",
   "metadata": {},
   "outputs": [
    {
     "name": "stdout",
     "output_type": "stream",
     "text": [
      "[[], [], [], [], [], []]\n"
     ]
    }
   ],
   "source": [
    "print(list_sp)"
   ]
  },
  {
   "cell_type": "code",
   "execution_count": 72,
   "id": "13177f5c",
   "metadata": {},
   "outputs": [],
   "source": [
    "for idx,name in enumerate(loai_san_pham):\n",
    "    list_sp[idx].append([int(row[6]) for row in row_list if row [4] == name])"
   ]
  },
  {
   "cell_type": "code",
   "execution_count": 73,
   "id": "577bed14",
   "metadata": {},
   "outputs": [],
   "source": [
    "quantity_theo_sp = []\n",
    "for idx,name in enumerate(loai_san_pham):\n",
    "    quantity_theo_sp.append(np.sum(list_sp[idx]))"
   ]
  },
  {
   "cell_type": "code",
   "execution_count": 74,
   "id": "bc1c970a",
   "metadata": {},
   "outputs": [
    {
     "data": {
      "image/png": "[encoded data removed]",
      "text/plain": [
       "<Figure size 1008x432 with 1 Axes>"
      ]
     },
     "metadata": {
      "needs_background": "light"
     },
     "output_type": "display_data"
    }
   ],
   "source": [
    "import squarify\n",
    "fig = plt.figure(figsize=(14,6))\n",
    "ax = fig.add_subplot(1,1,1)\n",
    "squarify.plot(sizes=quantity_theo_sp,label=loai_san_pham,ax=ax)\n",
    "plt.show()"
   ]
  },
  {
   "cell_type": "markdown",
   "id": "e8588c8b",
   "metadata": {},
   "source": [
    "#  $\\color{red}{\\text{BÀI 5: Đa biến (kết hợp các cột dữ liệu định danh và liên tục):}}$"
   ]
  },
  {
   "cell_type": "markdown",
   "id": "0e256302",
   "metadata": {},
   "source": [
    "#  $\\color{red}{\\text{a)Thực hiện lại câu hỏi thứ 3 cho từng chi nhánh, giới tính, phân loại khách hàng}}$"
   ]
  },
  {
   "cell_type": "markdown",
   "id": "e0da92df",
   "metadata": {},
   "source": [
    "# Theo phân loại khách hàng"
   ]
  },
  {
   "cell_type": "code",
   "execution_count": 75,
   "id": "9f371c50",
   "metadata": {},
   "outputs": [],
   "source": [
    "def basic_EDA(idx_row):\n",
    "    EDA_type = [row[idx_row] for row in row_list]\n",
    "    type_EDA, counts_EDA = np.unique(EDA_type,return_counts=True)\n",
    "    \n",
    "    quantity_EDA = []\n",
    "    total_EDA = []\n",
    "    rating_EDA = []\n",
    "    cogs_EDA = []\n",
    "    price_EDA = []\n",
    "    tax_EDA = []\n",
    "    \n",
    "    for idx,name in enumerate(type_EDA):\n",
    "        name = []\n",
    "        quantity_EDA.append(name)\n",
    "        total_EDA.append(name)\n",
    "        rating_EDA.append(name)\n",
    "        cogs_EDA.append(name)\n",
    "        price_EDA.append(name)\n",
    "        tax_EDA.append(name)\n",
    "        \n",
    "    for idx,name in enumerate(type_EDA):\n",
    "        quantity_EDA[idx].append([int(row[6]) for row in row_list if row[idx_row]==name])\n",
    "        total_EDA[idx].append([float(row[8]) for row in row_list if row[idx_row]==name])\n",
    "        rating_EDA[idx].append([float(row[13]) for row in row_list if row[idx_row]==name])\n",
    "        cogs_EDA[idx].append([float(row[12]) for row in row_list if row[idx_row]==name])\n",
    "        price_EDA[idx].append([float(row[5]) for row in row_list if row[idx_row]==name])\n",
    "        tax_EDA[idx].append([float(row[7]) for row in row_list if row[idx_row]==name])\n",
    "        \n",
    "    for idx,name in enumerate(type_EDA):\n",
    "        print(Fore.RED + f\"~~~~~~~~~~~~~~~~~~~~~~~~~~~{name}~~~~~~~~~~~~~~~~~~~~~~~~~~~~~\")\n",
    "        print(Style.RESET_ALL)\n",
    "        quantity_EDA_pd = pd.Series(data=quantity_EDA[idx][0],name=f'Quantity {name}')\n",
    "        total_EDA_pd = pd.Series(data=total_EDA[idx][0],name=f'Total {name}')\n",
    "        rating_EDA_pd = pd.Series(data=rating_EDA[idx][0],name=f'Rating {name}')\n",
    "        cogs_EDA_pd = pd.Series(data=cogs_EDA[idx][0],name=f'Cogs {name}')\n",
    "        price_EDA_pd = pd.Series(data=cogs_EDA[idx][0],name=f'Price {name}')\n",
    "        tax_EDA_pd = pd.Series(data=cogs_EDA[idx][0],name=f'Price {name}')\n",
    "        \n",
    "        Q,T,R = quantity_EDA_pd.describe(), total_EDA_pd.describe(), rating_EDA_pd.describe()\n",
    "        C,P,Tx = cogs_EDA_pd.describe(), price_EDA_pd.describe(), tax_EDA_pd.describe()\n",
    "        \n",
    "        print(f\"{Q}\\n\")\n",
    "        quantity_EDA_pd.plot(kind='hist')\n",
    "        plt.legend()\n",
    "        plt.show()\n",
    "        print(T,'\\n')\n",
    "        total_EDA_pd.plot(kind='hist',color='green')\n",
    "        plt.legend()\n",
    "        plt.show()\n",
    "        print(R,'\\n')\n",
    "        rating_EDA_pd.plot(kind='hist',color='tomato')\n",
    "        plt.legend()\n",
    "        plt.show()\n",
    "        print(C,'\\n')\n",
    "        cogs_EDA_pd.plot(kind='hist',color='yellow')\n",
    "        plt.legend()\n",
    "        plt.show()\n",
    "        print(P,'\\n')\n",
    "        price_EDA_pd.plot(kind='hist',color='lime')\n",
    "        plt.legend()\n",
    "        plt.show()\n",
    "        print(Tx,'\\n')\n",
    "        price_EDA_pd.plot(kind='hist',color='lime')\n",
    "        plt.legend()\n",
    "        plt.show()\n",
    "        \n",
    "        print(Fore.BLUE+'\\n*****************************************************************************************************\\n')\n",
    "        print(Style.RESET_ALL)"
   ]
  },
  {
   "cell_type": "code",
   "execution_count": 76,
   "id": "deddcaaf",
   "metadata": {},
   "outputs": [
    {
     "name": "stdout",
     "output_type": "stream",
     "text": [
      "\u001b[31m~~~~~~~~~~~~~~~~~~~~~~~~~~~Member~~~~~~~~~~~~~~~~~~~~~~~~~~~~~\n",
      "\u001b[0m\n",
      "count    501.000000\n",
      "mean       5.558882\n",
      "std        2.961592\n",
      "min        1.000000\n",
      "25%        3.000000\n",
      "50%        5.000000\n",
      "75%        8.000000\n",
      "max       10.000000\n",
      "Name: Quantity Member, dtype: float64\n",
      "\n"
     ]
    },
    {
     "data": {
      "image/png": "[encoded data removed]",
      "text/plain": [
       "<Figure size 432x288 with 1 Axes>"
      ]
     },
     "metadata": {
      "needs_background": "light"
     },
     "output_type": "display_data"
    },
    {
     "name": "stdout",
     "output_type": "stream",
     "text": [
      "count    501.000000\n",
      "mean       5.558882\n",
      "std        2.961592\n",
      "min        1.000000\n",
      "25%        3.000000\n",
      "50%        5.000000\n",
      "75%        8.000000\n",
      "max       10.000000\n",
      "Name: Total Member, dtype: float64 \n",
      "\n"
     ]
    },
    {
     "data": {
      "image/png": "[encoded data removed]",
      "text/plain": [
       "<Figure size 432x288 with 1 Axes>"
      ]
     },
     "metadata": {
      "needs_background": "light"
     },
     "output_type": "display_data"
    },
    {
     "name": "stdout",
     "output_type": "stream",
     "text": [
      "count    501.000000\n",
      "mean       5.558882\n",
      "std        2.961592\n",
      "min        1.000000\n",
      "25%        3.000000\n",
      "50%        5.000000\n",
      "75%        8.000000\n",
      "max       10.000000\n",
      "Name: Rating Member, dtype: float64 \n",
      "\n"
     ]
    },
    {
     "data": {
      "image/png": "[encoded data removed]",
      "text/plain": [
       "<Figure size 432x288 with 1 Axes>"
      ]
     },
     "metadata": {
      "needs_background": "light"
     },
     "output_type": "display_data"
    },
    {
     "name": "stdout",
     "output_type": "stream",
     "text": [
      "count    501.000000\n",
      "mean       5.558882\n",
      "std        2.961592\n",
      "min        1.000000\n",
      "25%        3.000000\n",
      "50%        5.000000\n",
      "75%        8.000000\n",
      "max       10.000000\n",
      "Name: Cogs Member, dtype: float64 \n",
      "\n"
     ]
    },
    {
     "data": {
      "image/png": "[encoded data removed]",
      "text/plain": [
       "<Figure size 432x288 with 1 Axes>"
      ]
     },
     "metadata": {
      "needs_background": "light"
     },
     "output_type": "display_data"
    },
    {
     "name": "stdout",
     "output_type": "stream",
     "text": [
      "count    501.000000\n",
      "mean       5.558882\n",
      "std        2.961592\n",
      "min        1.000000\n",
      "25%        3.000000\n",
      "50%        5.000000\n",
      "75%        8.000000\n",
      "max       10.000000\n",
      "Name: Price Member, dtype: float64 \n",
      "\n"
     ]
    },
    {
     "data": {
      "image/png": "[encoded data removed]",
      "text/plain": [
       "<Figure size 432x288 with 1 Axes>"
      ]
     },
     "metadata": {
      "needs_background": "light"
     },
     "output_type": "display_data"
    },
    {
     "name": "stdout",
     "output_type": "stream",
     "text": [
      "count    501.000000\n",
      "mean       5.558882\n",
      "std        2.961592\n",
      "min        1.000000\n",
      "25%        3.000000\n",
      "50%        5.000000\n",
      "75%        8.000000\n",
      "max       10.000000\n",
      "Name: Price Member, dtype: float64 \n",
      "\n"
     ]
    },
    {
     "data": {
      "image/png": "[encoded data removed]",
      "text/plain": [
       "<Figure size 432x288 with 1 Axes>"
      ]
     },
     "metadata": {
      "needs_background": "light"
     },
     "output_type": "display_data"
    },
    {
     "name": "stdout",
     "output_type": "stream",
     "text": [
      "\u001b[34m\n",
      "*****************************************************************************************************\n",
      "\n",
      "\u001b[0m\n",
      "\u001b[31m~~~~~~~~~~~~~~~~~~~~~~~~~~~Normal~~~~~~~~~~~~~~~~~~~~~~~~~~~~~\n",
      "\u001b[0m\n",
      "count    499.000000\n",
      "mean       5.460922\n",
      "std        2.886747\n",
      "min        1.000000\n",
      "25%        3.000000\n",
      "50%        5.000000\n",
      "75%        8.000000\n",
      "max       10.000000\n",
      "Name: Quantity Normal, dtype: float64\n",
      "\n"
     ]
    },
    {
     "data": {
      "image/png": "[encoded data removed]",
      "text/plain": [
       "<Figure size 432x288 with 1 Axes>"
      ]
     },
     "metadata": {
      "needs_background": "light"
     },
     "output_type": "display_data"
    },
    {
     "name": "stdout",
     "output_type": "stream",
     "text": [
      "count    499.000000\n",
      "mean       5.460922\n",
      "std        2.886747\n",
      "min        1.000000\n",
      "25%        3.000000\n",
      "50%        5.000000\n",
      "75%        8.000000\n",
      "max       10.000000\n",
      "Name: Total Normal, dtype: float64 \n",
      "\n"
     ]
    },
    {
     "data": {
      "image/png": "[encoded data removed]",
      "text/plain": [
       "<Figure size 432x288 with 1 Axes>"
      ]
     },
     "metadata": {
      "needs_background": "light"
     },
     "output_type": "display_data"
    },
    {
     "name": "stdout",
     "output_type": "stream",
     "text": [
      "count    499.000000\n",
      "mean       5.460922\n",
      "std        2.886747\n",
      "min        1.000000\n",
      "25%        3.000000\n",
      "50%        5.000000\n",
      "75%        8.000000\n",
      "max       10.000000\n",
      "Name: Rating Normal, dtype: float64 \n",
      "\n"
     ]
    },
    {
     "data": {
      "image/png": "[encoded data removed]",
      "text/plain": [
       "<Figure size 432x288 with 1 Axes>"
      ]
     },
     "metadata": {
      "needs_background": "light"
     },
     "output_type": "display_data"
    },
    {
     "name": "stdout",
     "output_type": "stream",
     "text": [
      "count    499.000000\n",
      "mean       5.460922\n",
      "std        2.886747\n",
      "min        1.000000\n",
      "25%        3.000000\n",
      "50%        5.000000\n",
      "75%        8.000000\n",
      "max       10.000000\n",
      "Name: Cogs Normal, dtype: float64 \n",
      "\n"
     ]
    },
    {
     "data": {
      "image/png": "[encoded data removed]",
      "text/plain": [
       "<Figure size 432x288 with 1 Axes>"
      ]
     },
     "metadata": {
      "needs_background": "light"
     },
     "output_type": "display_data"
    },
    {
     "name": "stdout",
     "output_type": "stream",
     "text": [
      "count    499.000000\n",
      "mean       5.460922\n",
      "std        2.886747\n",
      "min        1.000000\n",
      "25%        3.000000\n",
      "50%        5.000000\n",
      "75%        8.000000\n",
      "max       10.000000\n",
      "Name: Price Normal, dtype: float64 \n",
      "\n"
     ]
    },
    {
     "data": {
      "image/png": "[encoded data removed]",
      "text/plain": [
       "<Figure size 432x288 with 1 Axes>"
      ]
     },
     "metadata": {
      "needs_background": "light"
     },
     "output_type": "display_data"
    },
    {
     "name": "stdout",
     "output_type": "stream",
     "text": [
      "count    499.000000\n",
      "mean       5.460922\n",
      "std        2.886747\n",
      "min        1.000000\n",
      "25%        3.000000\n",
      "50%        5.000000\n",
      "75%        8.000000\n",
      "max       10.000000\n",
      "Name: Price Normal, dtype: float64 \n",
      "\n"
     ]
    },
    {
     "data": {
      "image/png": "[encoded data removed]",
      "text/plain": [
       "<Figure size 432x288 with 1 Axes>"
      ]
     },
     "metadata": {
      "needs_background": "light"
     },
     "output_type": "display_data"
    },
    {
     "name": "stdout",
     "output_type": "stream",
     "text": [
      "\u001b[34m\n",
      "*****************************************************************************************************\n",
      "\n",
      "\u001b[0m\n"
     ]
    }
   ],
   "source": [
    "basic_EDA(2)"
   ]
  },
  {
   "cell_type": "markdown",
   "id": "ccfe8a91",
   "metadata": {},
   "source": [
    "# Theo chi nhánh"
   ]
  },
  {
   "cell_type": "code",
   "execution_count": 77,
   "id": "33ac079b",
   "metadata": {},
   "outputs": [
    {
     "name": "stdout",
     "output_type": "stream",
     "text": [
      "\u001b[31m~~~~~~~~~~~~~~~~~~~~~~~~~~~Hà Nội~~~~~~~~~~~~~~~~~~~~~~~~~~~~~\n",
      "\u001b[0m\n",
      "count    274.000000\n",
      "mean       5.328467\n",
      "std        2.839051\n",
      "min        1.000000\n",
      "25%        3.000000\n",
      "50%        5.000000\n",
      "75%        8.000000\n",
      "max       10.000000\n",
      "Name: Quantity Hà Nội, dtype: float64\n",
      "\n"
     ]
    },
    {
     "data": {
      "image/png": "[encoded data removed]",
      "text/plain": [
       "<Figure size 432x288 with 1 Axes>"
      ]
     },
     "metadata": {
      "needs_background": "light"
     },
     "output_type": "display_data"
    },
    {
     "name": "stdout",
     "output_type": "stream",
     "text": [
      "count    274.000000\n",
      "mean       5.328467\n",
      "std        2.839051\n",
      "min        1.000000\n",
      "25%        3.000000\n",
      "50%        5.000000\n",
      "75%        8.000000\n",
      "max       10.000000\n",
      "Name: Total Hà Nội, dtype: float64 \n",
      "\n"
     ]
    },
    {
     "data": {
      "image/png": "[encoded data removed]",
      "text/plain": [
       "<Figure size 432x288 with 1 Axes>"
      ]
     },
     "metadata": {
      "needs_background": "light"
     },
     "output_type": "display_data"
    },
    {
     "name": "stdout",
     "output_type": "stream",
     "text": [
      "count    274.000000\n",
      "mean       5.328467\n",
      "std        2.839051\n",
      "min        1.000000\n",
      "25%        3.000000\n",
      "50%        5.000000\n",
      "75%        8.000000\n",
      "max       10.000000\n",
      "Name: Rating Hà Nội, dtype: float64 \n",
      "\n"
     ]
    },
    {
     "data": {
      "image/png": "[encoded data removed]",
      "text/plain": [
       "<Figure size 432x288 with 1 Axes>"
      ]
     },
     "metadata": {
      "needs_background": "light"
     },
     "output_type": "display_data"
    },
    {
     "name": "stdout",
     "output_type": "stream",
     "text": [
      "count    274.000000\n",
      "mean       5.328467\n",
      "std        2.839051\n",
      "min        1.000000\n",
      "25%        3.000000\n",
      "50%        5.000000\n",
      "75%        8.000000\n",
      "max       10.000000\n",
      "Name: Cogs Hà Nội, dtype: float64 \n",
      "\n"
     ]
    },
    {
     "data": {
      "image/png": "[encoded data removed]",
      "text/plain": [
       "<Figure size 432x288 with 1 Axes>"
      ]
     },
     "metadata": {
      "needs_background": "light"
     },
     "output_type": "display_data"
    },
    {
     "name": "stdout",
     "output_type": "stream",
     "text": [
      "count    274.000000\n",
      "mean       5.328467\n",
      "std        2.839051\n",
      "min        1.000000\n",
      "25%        3.000000\n",
      "50%        5.000000\n",
      "75%        8.000000\n",
      "max       10.000000\n",
      "Name: Price Hà Nội, dtype: float64 \n",
      "\n"
     ]
    },
    {
     "data": {
      "image/png": "[encoded data removed]",
      "text/plain": [
       "<Figure size 432x288 with 1 Axes>"
      ]
     },
     "metadata": {
      "needs_background": "light"
     },
     "output_type": "display_data"
    },
    {
     "name": "stdout",
     "output_type": "stream",
     "text": [
      "count    274.000000\n",
      "mean       5.328467\n",
      "std        2.839051\n",
      "min        1.000000\n",
      "25%        3.000000\n",
      "50%        5.000000\n",
      "75%        8.000000\n",
      "max       10.000000\n",
      "Name: Price Hà Nội, dtype: float64 \n",
      "\n"
     ]
    },
    {
     "data": {
      "image/png": "[encoded data removed]",
      "text/plain": [
       "<Figure size 432x288 with 1 Axes>"
      ]
     },
     "metadata": {
      "needs_background": "light"
     },
     "output_type": "display_data"
    },
    {
     "name": "stdout",
     "output_type": "stream",
     "text": [
      "\u001b[34m\n",
      "*****************************************************************************************************\n",
      "\n",
      "\u001b[0m\n",
      "\u001b[31m~~~~~~~~~~~~~~~~~~~~~~~~~~~TP HCM~~~~~~~~~~~~~~~~~~~~~~~~~~~~~\n",
      "\u001b[0m\n",
      "count    490.000000\n",
      "mean       5.628571\n",
      "std        2.950304\n",
      "min        1.000000\n",
      "25%        3.000000\n",
      "50%        6.000000\n",
      "75%        8.000000\n",
      "max       10.000000\n",
      "Name: Quantity TP HCM, dtype: float64\n",
      "\n"
     ]
    },
    {
     "data": {
      "image/png": "[encoded data removed]",
      "text/plain": [
       "<Figure size 432x288 with 1 Axes>"
      ]
     },
     "metadata": {
      "needs_background": "light"
     },
     "output_type": "display_data"
    },
    {
     "name": "stdout",
     "output_type": "stream",
     "text": [
      "count    490.000000\n",
      "mean       5.628571\n",
      "std        2.950304\n",
      "min        1.000000\n",
      "25%        3.000000\n",
      "50%        6.000000\n",
      "75%        8.000000\n",
      "max       10.000000\n",
      "Name: Total TP HCM, dtype: float64 \n",
      "\n"
     ]
    },
    {
     "data": {
      "image/png": "[encoded data removed]",
      "text/plain": [
       "<Figure size 432x288 with 1 Axes>"
      ]
     },
     "metadata": {
      "needs_background": "light"
     },
     "output_type": "display_data"
    },
    {
     "name": "stdout",
     "output_type": "stream",
     "text": [
      "count    490.000000\n",
      "mean       5.628571\n",
      "std        2.950304\n",
      "min        1.000000\n",
      "25%        3.000000\n",
      "50%        6.000000\n",
      "75%        8.000000\n",
      "max       10.000000\n",
      "Name: Rating TP HCM, dtype: float64 \n",
      "\n"
     ]
    },
    {
     "data": {
      "image/png": "[encoded data removed]",
      "text/plain": [
       "<Figure size 432x288 with 1 Axes>"
      ]
     },
     "metadata": {
      "needs_background": "light"
     },
     "output_type": "display_data"
    },
    {
     "name": "stdout",
     "output_type": "stream",
     "text": [
      "count    490.000000\n",
      "mean       5.628571\n",
      "std        2.950304\n",
      "min        1.000000\n",
      "25%        3.000000\n",
      "50%        6.000000\n",
      "75%        8.000000\n",
      "max       10.000000\n",
      "Name: Cogs TP HCM, dtype: float64 \n",
      "\n"
     ]
    },
    {
     "data": {
      "image/png": "[encoded data removed]",
      "text/plain": [
       "<Figure size 432x288 with 1 Axes>"
      ]
     },
     "metadata": {
      "needs_background": "light"
     },
     "output_type": "display_data"
    },
    {
     "name": "stdout",
     "output_type": "stream",
     "text": [
      "count    490.000000\n",
      "mean       5.628571\n",
      "std        2.950304\n",
      "min        1.000000\n",
      "25%        3.000000\n",
      "50%        6.000000\n",
      "75%        8.000000\n",
      "max       10.000000\n",
      "Name: Price TP HCM, dtype: float64 \n",
      "\n"
     ]
    },
    {
     "data": {
      "image/png": "[encoded data removed]",
      "text/plain": [
       "<Figure size 432x288 with 1 Axes>"
      ]
     },
     "metadata": {
      "needs_background": "light"
     },
     "output_type": "display_data"
    },
    {
     "name": "stdout",
     "output_type": "stream",
     "text": [
      "count    490.000000\n",
      "mean       5.628571\n",
      "std        2.950304\n",
      "min        1.000000\n",
      "25%        3.000000\n",
      "50%        6.000000\n",
      "75%        8.000000\n",
      "max       10.000000\n",
      "Name: Price TP HCM, dtype: float64 \n",
      "\n"
     ]
    },
    {
     "data": {
      "image/png": "[encoded data removed]",
      "text/plain": [
       "<Figure size 432x288 with 1 Axes>"
      ]
     },
     "metadata": {
      "needs_background": "light"
     },
     "output_type": "display_data"
    },
    {
     "name": "stdout",
     "output_type": "stream",
     "text": [
      "\u001b[34m\n",
      "*****************************************************************************************************\n",
      "\n",
      "\u001b[0m\n",
      "\u001b[31m~~~~~~~~~~~~~~~~~~~~~~~~~~~Đà Nẵng~~~~~~~~~~~~~~~~~~~~~~~~~~~~~\n",
      "\u001b[0m\n",
      "count    236.000000\n",
      "mean       5.474576\n",
      "std        2.964217\n",
      "min        1.000000\n",
      "25%        3.000000\n",
      "50%        5.000000\n",
      "75%        8.000000\n",
      "max       10.000000\n",
      "Name: Quantity Đà Nẵng, dtype: float64\n",
      "\n"
     ]
    },
    {
     "data": {
      "image/png": "[encoded data removed]",
      "text/plain": [
       "<Figure size 432x288 with 1 Axes>"
      ]
     },
     "metadata": {
      "needs_background": "light"
     },
     "output_type": "display_data"
    },
    {
     "name": "stdout",
     "output_type": "stream",
     "text": [
      "count    236.000000\n",
      "mean       5.474576\n",
      "std        2.964217\n",
      "min        1.000000\n",
      "25%        3.000000\n",
      "50%        5.000000\n",
      "75%        8.000000\n",
      "max       10.000000\n",
      "Name: Total Đà Nẵng, dtype: float64 \n",
      "\n"
     ]
    },
    {
     "data": {
      "image/png": "[encoded data removed]",
      "text/plain": [
       "<Figure size 432x288 with 1 Axes>"
      ]
     },
     "metadata": {
      "needs_background": "light"
     },
     "output_type": "display_data"
    },
    {
     "name": "stdout",
     "output_type": "stream",
     "text": [
      "count    236.000000\n",
      "mean       5.474576\n",
      "std        2.964217\n",
      "min        1.000000\n",
      "25%        3.000000\n",
      "50%        5.000000\n",
      "75%        8.000000\n",
      "max       10.000000\n",
      "Name: Rating Đà Nẵng, dtype: float64 \n",
      "\n"
     ]
    },
    {
     "data": {
      "image/png": "[encoded data removed]",
      "text/plain": [
       "<Figure size 432x288 with 1 Axes>"
      ]
     },
     "metadata": {
      "needs_background": "light"
     },
     "output_type": "display_data"
    },
    {
     "name": "stdout",
     "output_type": "stream",
     "text": [
      "count    236.000000\n",
      "mean       5.474576\n",
      "std        2.964217\n",
      "min        1.000000\n",
      "25%        3.000000\n",
      "50%        5.000000\n",
      "75%        8.000000\n",
      "max       10.000000\n",
      "Name: Cogs Đà Nẵng, dtype: float64 \n",
      "\n"
     ]
    },
    {
     "data": {
      "image/png": "[encoded data removed]",
      "text/plain": [
       "<Figure size 432x288 with 1 Axes>"
      ]
     },
     "metadata": {
      "needs_background": "light"
     },
     "output_type": "display_data"
    },
    {
     "name": "stdout",
     "output_type": "stream",
     "text": [
      "count    236.000000\n",
      "mean       5.474576\n",
      "std        2.964217\n",
      "min        1.000000\n",
      "25%        3.000000\n",
      "50%        5.000000\n",
      "75%        8.000000\n",
      "max       10.000000\n",
      "Name: Price Đà Nẵng, dtype: float64 \n",
      "\n"
     ]
    },
    {
     "data": {
      "image/png": "[encoded data removed]",
      "text/plain": [
       "<Figure size 432x288 with 1 Axes>"
      ]
     },
     "metadata": {
      "needs_background": "light"
     },
     "output_type": "display_data"
    },
    {
     "name": "stdout",
     "output_type": "stream",
     "text": [
      "count    236.000000\n",
      "mean       5.474576\n",
      "std        2.964217\n",
      "min        1.000000\n",
      "25%        3.000000\n",
      "50%        5.000000\n",
      "75%        8.000000\n",
      "max       10.000000\n",
      "Name: Price Đà Nẵng, dtype: float64 \n",
      "\n"
     ]
    },
    {
     "data": {
      "image/png": "[encoded data removed]",
      "text/plain": [
       "<Figure size 432x288 with 1 Axes>"
      ]
     },
     "metadata": {
      "needs_background": "light"
     },
     "output_type": "display_data"
    },
    {
     "name": "stdout",
     "output_type": "stream",
     "text": [
      "\u001b[34m\n",
      "*****************************************************************************************************\n",
      "\n",
      "\u001b[0m\n"
     ]
    }
   ],
   "source": [
    "basic_EDA(1)"
   ]
  },
  {
   "cell_type": "markdown",
   "id": "6e5ca2dc",
   "metadata": {},
   "source": [
    "# Theo giới tính"
   ]
  },
  {
   "cell_type": "code",
   "execution_count": 78,
   "id": "b0ab5043",
   "metadata": {},
   "outputs": [
    {
     "name": "stdout",
     "output_type": "stream",
     "text": [
      "\u001b[31m~~~~~~~~~~~~~~~~~~~~~~~~~~~Nam~~~~~~~~~~~~~~~~~~~~~~~~~~~~~\n",
      "\u001b[0m\n",
      "count    499.000000\n",
      "mean       5.292585\n",
      "std        2.947084\n",
      "min        1.000000\n",
      "25%        3.000000\n",
      "50%        5.000000\n",
      "75%        8.000000\n",
      "max       10.000000\n",
      "Name: Quantity Nam, dtype: float64\n",
      "\n"
     ]
    },
    {
     "data": {
      "image/png": "[encoded data removed]",
      "text/plain": [
       "<Figure size 432x288 with 1 Axes>"
      ]
     },
     "metadata": {
      "needs_background": "light"
     },
     "output_type": "display_data"
    },
    {
     "name": "stdout",
     "output_type": "stream",
     "text": [
      "count    499.000000\n",
      "mean       5.292585\n",
      "std        2.947084\n",
      "min        1.000000\n",
      "25%        3.000000\n",
      "50%        5.000000\n",
      "75%        8.000000\n",
      "max       10.000000\n",
      "Name: Total Nam, dtype: float64 \n",
      "\n"
     ]
    },
    {
     "data": {
      "image/png": "[encoded data removed]",
      "text/plain": [
       "<Figure size 432x288 with 1 Axes>"
      ]
     },
     "metadata": {
      "needs_background": "light"
     },
     "output_type": "display_data"
    },
    {
     "name": "stdout",
     "output_type": "stream",
     "text": [
      "count    499.000000\n",
      "mean       5.292585\n",
      "std        2.947084\n",
      "min        1.000000\n",
      "25%        3.000000\n",
      "50%        5.000000\n",
      "75%        8.000000\n",
      "max       10.000000\n",
      "Name: Rating Nam, dtype: float64 \n",
      "\n"
     ]
    },
    {
     "data": {
      "image/png": "[encoded data removed]",
      "text/plain": [
       "<Figure size 432x288 with 1 Axes>"
      ]
     },
     "metadata": {
      "needs_background": "light"
     },
     "output_type": "display_data"
    },
    {
     "name": "stdout",
     "output_type": "stream",
     "text": [
      "count    499.000000\n",
      "mean       5.292585\n",
      "std        2.947084\n",
      "min        1.000000\n",
      "25%        3.000000\n",
      "50%        5.000000\n",
      "75%        8.000000\n",
      "max       10.000000\n",
      "Name: Cogs Nam, dtype: float64 \n",
      "\n"
     ]
    },
    {
     "data": {
      "image/png": "[encoded data removed]",
      "text/plain": [
       "<Figure size 432x288 with 1 Axes>"
      ]
     },
     "metadata": {
      "needs_background": "light"
     },
     "output_type": "display_data"
    },
    {
     "name": "stdout",
     "output_type": "stream",
     "text": [
      "count    499.000000\n",
      "mean       5.292585\n",
      "std        2.947084\n",
      "min        1.000000\n",
      "25%        3.000000\n",
      "50%        5.000000\n",
      "75%        8.000000\n",
      "max       10.000000\n",
      "Name: Price Nam, dtype: float64 \n",
      "\n"
     ]
    },
    {
     "data": {
      "image/png": "[encoded data removed]",
      "text/plain": [
       "<Figure size 432x288 with 1 Axes>"
      ]
     },
     "metadata": {
      "needs_background": "light"
     },
     "output_type": "display_data"
    },
    {
     "name": "stdout",
     "output_type": "stream",
     "text": [
      "count    499.000000\n",
      "mean       5.292585\n",
      "std        2.947084\n",
      "min        1.000000\n",
      "25%        3.000000\n",
      "50%        5.000000\n",
      "75%        8.000000\n",
      "max       10.000000\n",
      "Name: Price Nam, dtype: float64 \n",
      "\n"
     ]
    },
    {
     "data": {
      "image/png": "[encoded data removed]",
      "text/plain": [
       "<Figure size 432x288 with 1 Axes>"
      ]
     },
     "metadata": {
      "needs_background": "light"
     },
     "output_type": "display_data"
    },
    {
     "name": "stdout",
     "output_type": "stream",
     "text": [
      "\u001b[34m\n",
      "*****************************************************************************************************\n",
      "\n",
      "\u001b[0m\n",
      "\u001b[31m~~~~~~~~~~~~~~~~~~~~~~~~~~~Nữ~~~~~~~~~~~~~~~~~~~~~~~~~~~~~\n",
      "\u001b[0m\n",
      "count    501.000000\n",
      "mean       5.726547\n",
      "std        2.886360\n",
      "min        1.000000\n",
      "25%        3.000000\n",
      "50%        6.000000\n",
      "75%        8.000000\n",
      "max       10.000000\n",
      "Name: Quantity Nữ, dtype: float64\n",
      "\n"
     ]
    },
    {
     "data": {
      "image/png": "[encoded data removed]",
      "text/plain": [
       "<Figure size 432x288 with 1 Axes>"
      ]
     },
     "metadata": {
      "needs_background": "light"
     },
     "output_type": "display_data"
    },
    {
     "name": "stdout",
     "output_type": "stream",
     "text": [
      "count    501.000000\n",
      "mean       5.726547\n",
      "std        2.886360\n",
      "min        1.000000\n",
      "25%        3.000000\n",
      "50%        6.000000\n",
      "75%        8.000000\n",
      "max       10.000000\n",
      "Name: Total Nữ, dtype: float64 \n",
      "\n"
     ]
    },
    {
     "data": {
      "image/png": "[encoded data removed]",
      "text/plain": [
       "<Figure size 432x288 with 1 Axes>"
      ]
     },
     "metadata": {
      "needs_background": "light"
     },
     "output_type": "display_data"
    },
    {
     "name": "stdout",
     "output_type": "stream",
     "text": [
      "count    501.000000\n",
      "mean       5.726547\n",
      "std        2.886360\n",
      "min        1.000000\n",
      "25%        3.000000\n",
      "50%        6.000000\n",
      "75%        8.000000\n",
      "max       10.000000\n",
      "Name: Rating Nữ, dtype: float64 \n",
      "\n"
     ]
    },
    {
     "data": {
      "image/png": "[encoded data removed]",
      "text/plain": [
       "<Figure size 432x288 with 1 Axes>"
      ]
     },
     "metadata": {
      "needs_background": "light"
     },
     "output_type": "display_data"
    },
    {
     "name": "stdout",
     "output_type": "stream",
     "text": [
      "count    501.000000\n",
      "mean       5.726547\n",
      "std        2.886360\n",
      "min        1.000000\n",
      "25%        3.000000\n",
      "50%        6.000000\n",
      "75%        8.000000\n",
      "max       10.000000\n",
      "Name: Cogs Nữ, dtype: float64 \n",
      "\n"
     ]
    },
    {
     "data": {
      "image/png": "[encoded data removed]",
      "text/plain": [
       "<Figure size 432x288 with 1 Axes>"
      ]
     },
     "metadata": {
      "needs_background": "light"
     },
     "output_type": "display_data"
    },
    {
     "name": "stdout",
     "output_type": "stream",
     "text": [
      "count    501.000000\n",
      "mean       5.726547\n",
      "std        2.886360\n",
      "min        1.000000\n",
      "25%        3.000000\n",
      "50%        6.000000\n",
      "75%        8.000000\n",
      "max       10.000000\n",
      "Name: Price Nữ, dtype: float64 \n",
      "\n"
     ]
    },
    {
     "data": {
      "image/png": "[encoded data removed]",
      "text/plain": [
       "<Figure size 432x288 with 1 Axes>"
      ]
     },
     "metadata": {
      "needs_background": "light"
     },
     "output_type": "display_data"
    },
    {
     "name": "stdout",
     "output_type": "stream",
     "text": [
      "count    501.000000\n",
      "mean       5.726547\n",
      "std        2.886360\n",
      "min        1.000000\n",
      "25%        3.000000\n",
      "50%        6.000000\n",
      "75%        8.000000\n",
      "max       10.000000\n",
      "Name: Price Nữ, dtype: float64 \n",
      "\n"
     ]
    },
    {
     "data": {
      "image/png": "[encoded data removed]",
      "text/plain": [
       "<Figure size 432x288 with 1 Axes>"
      ]
     },
     "metadata": {
      "needs_background": "light"
     },
     "output_type": "display_data"
    },
    {
     "name": "stdout",
     "output_type": "stream",
     "text": [
      "\u001b[34m\n",
      "*****************************************************************************************************\n",
      "\n",
      "\u001b[0m\n"
     ]
    }
   ],
   "source": [
    "basic_EDA(3)"
   ]
  },
  {
   "cell_type": "markdown",
   "id": "bcd89015",
   "metadata": {},
   "source": [
    "#  $\\color{red}{\\text{b)So sánh tổng đơn theo phân loại sản phẩm}}$"
   ]
  },
  {
   "cell_type": "code",
   "execution_count": 79,
   "id": "fa92392b",
   "metadata": {},
   "outputs": [
    {
     "data": {
      "text/plain": [
       "(array(['Electronic accessories', 'Fashion accessories',\n",
       "        'Food and beverages', 'Health and beauty', 'Home and lifestyle',\n",
       "        'Sports and travel'], dtype='<U22'),\n",
       " array([170, 178, 174, 152, 160, 166], dtype=int64))"
      ]
     },
     "execution_count": 79,
     "metadata": {},
     "output_type": "execute_result"
    }
   ],
   "source": [
    "loai_sp_list = [row[4] for row in row_list]\n",
    "loai_sp, counts_sp = np.unique(loai_sp_list,return_counts=True)\n",
    "loai_sp, counts_sp"
   ]
  },
  {
   "cell_type": "code",
   "execution_count": 80,
   "id": "0a3dde5c",
   "metadata": {},
   "outputs": [
    {
     "data": {
      "text/plain": [
       "[[], [], [], [], [], []]"
      ]
     },
     "execution_count": 80,
     "metadata": {},
     "output_type": "execute_result"
    }
   ],
   "source": [
    "list_sp_theo_loai = []\n",
    "for idx,name in enumerate(loai_sp):\n",
    "    name = []\n",
    "    list_sp_theo_loai.append(name)\n",
    "list_sp_theo_loai"
   ]
  },
  {
   "cell_type": "code",
   "execution_count": 81,
   "id": "cc5ea4cc",
   "metadata": {},
   "outputs": [
    {
     "data": {
      "text/plain": [
       "[[[80.22,\n",
       "   627.6165,\n",
       "   433.692,\n",
       "   107.142,\n",
       "   246.4875,\n",
       "   451.71,\n",
       "   181.44,\n",
       "   575.316,\n",
       "   394.632,\n",
       "   119.259,\n",
       "   722.232,\n",
       "   192.843,\n",
       "   478.233,\n",
       "   437.325,\n",
       "   102.018,\n",
       "   78.435,\n",
       "   218.0115,\n",
       "   931.035,\n",
       "   860.685,\n",
       "   836.304,\n",
       "   550.935,\n",
       "   138.1275,\n",
       "   75.7785,\n",
       "   175.14,\n",
       "   333.207,\n",
       "   171.7275,\n",
       "   241.458,\n",
       "   451.3635,\n",
       "   629.8425,\n",
       "   942.4485,\n",
       "   247.8735,\n",
       "   298.116,\n",
       "   285.705,\n",
       "   62.0025,\n",
       "   155.652,\n",
       "   571.41,\n",
       "   33.3585,\n",
       "   69.405,\n",
       "   256.41,\n",
       "   326.424,\n",
       "   69.6675,\n",
       "   135.45,\n",
       "   276.948,\n",
       "   709.317,\n",
       "   423.15,\n",
       "   204.6975,\n",
       "   65.604,\n",
       "   272.58,\n",
       "   121.128,\n",
       "   214.998,\n",
       "   125.664,\n",
       "   530.67,\n",
       "   83.412,\n",
       "   820.365,\n",
       "   392.6475,\n",
       "   152.712,\n",
       "   149.3625,\n",
       "   150.0975,\n",
       "   151.4835,\n",
       "   75.5475,\n",
       "   191.247,\n",
       "   379.9215,\n",
       "   31.752,\n",
       "   86.625,\n",
       "   484.974,\n",
       "   203.175,\n",
       "   193.011,\n",
       "   99.33,\n",
       "   55.881,\n",
       "   80.661,\n",
       "   181.818,\n",
       "   185.367,\n",
       "   264.7575,\n",
       "   147.798,\n",
       "   343.224,\n",
       "   470.673,\n",
       "   138.663,\n",
       "   87.234,\n",
       "   833.595,\n",
       "   488.985,\n",
       "   103.782,\n",
       "   338.31,\n",
       "   353.094,\n",
       "   40.53,\n",
       "   344.4,\n",
       "   132.762,\n",
       "   203.112,\n",
       "   731.6925,\n",
       "   143.9865,\n",
       "   240.975,\n",
       "   118.251,\n",
       "   416.178,\n",
       "   139.923,\n",
       "   142.002,\n",
       "   203.931,\n",
       "   356.328,\n",
       "   469.413,\n",
       "   87.234,\n",
       "   30.408,\n",
       "   461.5275,\n",
       "   246.6765,\n",
       "   48.51,\n",
       "   743.82,\n",
       "   116.907,\n",
       "   63.2625,\n",
       "   259.77,\n",
       "   397.215,\n",
       "   49.4235,\n",
       "   104.6745,\n",
       "   477.54,\n",
       "   41.454,\n",
       "   657.531,\n",
       "   180.6,\n",
       "   733.6035,\n",
       "   37.611,\n",
       "   557.718,\n",
       "   616.98,\n",
       "   769.104,\n",
       "   182.91,\n",
       "   300.216,\n",
       "   757.365,\n",
       "   401.688,\n",
       "   830.3715,\n",
       "   548.163,\n",
       "   603.876,\n",
       "   680.61,\n",
       "   97.881,\n",
       "   253.68,\n",
       "   714.3255,\n",
       "   210.966,\n",
       "   422.73,\n",
       "   99.9075,\n",
       "   408.408,\n",
       "   222.138,\n",
       "   681.975,\n",
       "   779.31,\n",
       "   88.704,\n",
       "   586.635,\n",
       "   63.315,\n",
       "   295.407,\n",
       "   76.923,\n",
       "   554.295,\n",
       "   250.7085,\n",
       "   225.015,\n",
       "   41.7375,\n",
       "   756.168,\n",
       "   101.64,\n",
       "   771.435,\n",
       "   486.444,\n",
       "   148.995,\n",
       "   317.835,\n",
       "   423.738,\n",
       "   235.746,\n",
       "   223.587,\n",
       "   82.719,\n",
       "   57.876,\n",
       "   833.9625,\n",
       "   690.018,\n",
       "   176.925,\n",
       "   289.926,\n",
       "   43.869,\n",
       "   304.983,\n",
       "   80.367,\n",
       "   181.0725,\n",
       "   640.038,\n",
       "   26.7225,\n",
       "   708.3195,\n",
       "   864.57,\n",
       "   121.863,\n",
       "   63.9975]],\n",
       " [[60.816,\n",
       "   35.196,\n",
       "   184.107,\n",
       "   494.1825,\n",
       "   867.615,\n",
       "   75.054,\n",
       "   16.2015,\n",
       "   614.943,\n",
       "   652.26,\n",
       "   463.428,\n",
       "   189.0945,\n",
       "   401.73,\n",
       "   51.1455,\n",
       "   742.2975,\n",
       "   172.494,\n",
       "   535.374,\n",
       "   85.113,\n",
       "   115.185,\n",
       "   53.928,\n",
       "   474.348,\n",
       "   299.8485,\n",
       "   291.207,\n",
       "   284.193,\n",
       "   316.47,\n",
       "   384.468,\n",
       "   786.618,\n",
       "   1039.29,\n",
       "   165.4485,\n",
       "   472.311,\n",
       "   154.392,\n",
       "   78.0045,\n",
       "   95.6655,\n",
       "   796.908,\n",
       "   13.167,\n",
       "   170.877,\n",
       "   310.044,\n",
       "   232.155,\n",
       "   94.1745,\n",
       "   195.72,\n",
       "   94.185,\n",
       "   369.495,\n",
       "   137.004,\n",
       "   69.09,\n",
       "   160.86,\n",
       "   352.5795,\n",
       "   400.764,\n",
       "   745.395,\n",
       "   209.622,\n",
       "   172.011,\n",
       "   145.593,\n",
       "   324.2925,\n",
       "   404.355,\n",
       "   721.98,\n",
       "   736.4385,\n",
       "   1042.65,\n",
       "   402.2655,\n",
       "   394.275,\n",
       "   343.056,\n",
       "   128.016,\n",
       "   265.104,\n",
       "   507.675,\n",
       "   407.316,\n",
       "   510.9615,\n",
       "   253.512,\n",
       "   398.475,\n",
       "   208.6875,\n",
       "   718.7565,\n",
       "   288.582,\n",
       "   125.055,\n",
       "   1020.705,\n",
       "   213.528,\n",
       "   17.094,\n",
       "   383.7645,\n",
       "   145.068,\n",
       "   702.219,\n",
       "   49.812,\n",
       "   13.419,\n",
       "   144.081,\n",
       "   155.19,\n",
       "   452.865,\n",
       "   431.445,\n",
       "   156.03,\n",
       "   72.87,\n",
       "   206.43,\n",
       "   209.769,\n",
       "   33.495,\n",
       "   398.958,\n",
       "   54.0435,\n",
       "   164.682,\n",
       "   125.706,\n",
       "   728.112,\n",
       "   77.658,\n",
       "   306.81,\n",
       "   308.91,\n",
       "   180.4005,\n",
       "   513.2295,\n",
       "   151.284,\n",
       "   208.425,\n",
       "   621.243,\n",
       "   586.971,\n",
       "   597.6285,\n",
       "   195.258,\n",
       "   75.936,\n",
       "   625.905,\n",
       "   193.4625,\n",
       "   68.2395,\n",
       "   381.3915,\n",
       "   394.3275,\n",
       "   32.1405,\n",
       "   293.643,\n",
       "   273.798,\n",
       "   874.125,\n",
       "   95.9175,\n",
       "   12.6945,\n",
       "   165.123,\n",
       "   35.3115,\n",
       "   252.756,\n",
       "   277.6725,\n",
       "   58.2225,\n",
       "   370.125,\n",
       "   204.246,\n",
       "   588.42,\n",
       "   175.917,\n",
       "   310.716,\n",
       "   45.108,\n",
       "   539.343,\n",
       "   507.444,\n",
       "   207.585,\n",
       "   131.208,\n",
       "   829.08,\n",
       "   525.231,\n",
       "   142.947,\n",
       "   110.124,\n",
       "   187.866,\n",
       "   408.492,\n",
       "   93.744,\n",
       "   20.685,\n",
       "   684.915,\n",
       "   93.744,\n",
       "   267.3405,\n",
       "   817.236,\n",
       "   536.592,\n",
       "   239.589,\n",
       "   32.151,\n",
       "   48.7305,\n",
       "   57.078,\n",
       "   495.3165,\n",
       "   462.672,\n",
       "   652.89,\n",
       "   333.984,\n",
       "   130.032,\n",
       "   54.999,\n",
       "   202.335,\n",
       "   163.611,\n",
       "   22.386,\n",
       "   624.33,\n",
       "   77.805,\n",
       "   206.808,\n",
       "   345.0195,\n",
       "   59.325,\n",
       "   54.9675,\n",
       "   85.512,\n",
       "   102.396,\n",
       "   485.5725,\n",
       "   446.439,\n",
       "   431.256,\n",
       "   397.614,\n",
       "   175.035,\n",
       "   943.299,\n",
       "   56.469,\n",
       "   312.8895,\n",
       "   96.579,\n",
       "   16.275,\n",
       "   180.873,\n",
       "   104.832,\n",
       "   334.4775,\n",
       "   183.645,\n",
       "   649.299]],\n",
       " [[172.746,\n",
       "   453.495,\n",
       "   172.2105,\n",
       "   463.89,\n",
       "   417.564,\n",
       "   829.08,\n",
       "   189.0945,\n",
       "   671.79,\n",
       "   234.0975,\n",
       "   939.54,\n",
       "   152.838,\n",
       "   822.255,\n",
       "   304.542,\n",
       "   161.7,\n",
       "   337.512,\n",
       "   362.943,\n",
       "   166.1625,\n",
       "   367.038,\n",
       "   321.111,\n",
       "   115.08,\n",
       "   575.736,\n",
       "   31.9305,\n",
       "   103.824,\n",
       "   484.5225,\n",
       "   362.712,\n",
       "   336.5565,\n",
       "   418.95,\n",
       "   323.064,\n",
       "   420.2625,\n",
       "   166.236,\n",
       "   186.228,\n",
       "   465.444,\n",
       "   323.148,\n",
       "   56.952,\n",
       "   829.71,\n",
       "   374.7975,\n",
       "   881.307,\n",
       "   180.621,\n",
       "   456.288,\n",
       "   90.825,\n",
       "   235.683,\n",
       "   536.991,\n",
       "   439.8975,\n",
       "   783.3,\n",
       "   356.5485,\n",
       "   76.356,\n",
       "   51.0405,\n",
       "   74.7075,\n",
       "   208.677,\n",
       "   66.402,\n",
       "   216.6885,\n",
       "   523.845,\n",
       "   395.892,\n",
       "   103.635,\n",
       "   49.308,\n",
       "   404.649,\n",
       "   509.4075,\n",
       "   374.388,\n",
       "   680.064,\n",
       "   793.548,\n",
       "   209.559,\n",
       "   173.208,\n",
       "   523.3725,\n",
       "   314.538,\n",
       "   214.935,\n",
       "   294.651,\n",
       "   133.917,\n",
       "   284.9175,\n",
       "   248.409,\n",
       "   72.3975,\n",
       "   121.59,\n",
       "   65.7405,\n",
       "   90.867,\n",
       "   71.568,\n",
       "   91.56,\n",
       "   290.43,\n",
       "   333.9525,\n",
       "   731.43,\n",
       "   37.6845,\n",
       "   212.73,\n",
       "   767.025,\n",
       "   23.751,\n",
       "   269.535,\n",
       "   22.659,\n",
       "   554.148,\n",
       "   568.512,\n",
       "   529.515,\n",
       "   514.773,\n",
       "   570.78,\n",
       "   154.1295,\n",
       "   551.124,\n",
       "   74.76,\n",
       "   1034.46,\n",
       "   262.458,\n",
       "   936.6,\n",
       "   852.705,\n",
       "   74.4555,\n",
       "   152.019,\n",
       "   253.26,\n",
       "   133.434,\n",
       "   85.743,\n",
       "   164.871,\n",
       "   164.43,\n",
       "   814.38,\n",
       "   209.118,\n",
       "   121.569,\n",
       "   935.2665,\n",
       "   708.225,\n",
       "   620.739,\n",
       "   225.792,\n",
       "   96.1905,\n",
       "   165.648,\n",
       "   175.917,\n",
       "   251.7165,\n",
       "   92.5575,\n",
       "   311.1885,\n",
       "   609.168,\n",
       "   914.55,\n",
       "   181.881,\n",
       "   196.14,\n",
       "   308.574,\n",
       "   305.55,\n",
       "   211.365,\n",
       "   404.544,\n",
       "   497.07,\n",
       "   101.808,\n",
       "   72.429,\n",
       "   507.906,\n",
       "   270.2595,\n",
       "   98.028,\n",
       "   56.406,\n",
       "   89.0715,\n",
       "   40.341,\n",
       "   143.22,\n",
       "   197.925,\n",
       "   232.638,\n",
       "   810.6,\n",
       "   55.041,\n",
       "   137.865,\n",
       "   151.515,\n",
       "   446.964,\n",
       "   284.592,\n",
       "   247.59,\n",
       "   31.227,\n",
       "   688.716,\n",
       "   177.408,\n",
       "   450.1035,\n",
       "   76.5765,\n",
       "   182.427,\n",
       "   348.705,\n",
       "   175.014,\n",
       "   92.295,\n",
       "   297.801,\n",
       "   331.128,\n",
       "   84.7455,\n",
       "   167.034,\n",
       "   91.8225,\n",
       "   313.74,\n",
       "   781.62,\n",
       "   360.927,\n",
       "   279.384,\n",
       "   222.012,\n",
       "   263.97,\n",
       "   88.368,\n",
       "   477.1305,\n",
       "   932.337,\n",
       "   69.993,\n",
       "   888.615,\n",
       "   313.572,\n",
       "   167.58,\n",
       "   71.1585,\n",
       "   250.278,\n",
       "   296.94,\n",
       "   33.432]],\n",
       " [[548.9715,\n",
       "   489.048,\n",
       "   76.146,\n",
       "   749.49,\n",
       "   506.6355,\n",
       "   277.137,\n",
       "   235.2105,\n",
       "   202.818,\n",
       "   461.328,\n",
       "   32.277,\n",
       "   535.7205,\n",
       "   752.64,\n",
       "   318.108,\n",
       "   166.635,\n",
       "   70.287,\n",
       "   19.2465,\n",
       "   106.995,\n",
       "   624.897,\n",
       "   485.037,\n",
       "   608.202,\n",
       "   94.2375,\n",
       "   922.635,\n",
       "   223.0725,\n",
       "   309.3615,\n",
       "   512.19,\n",
       "   950.25,\n",
       "   720.3,\n",
       "   291.438,\n",
       "   277.788,\n",
       "   272.664,\n",
       "   918.729,\n",
       "   357.588,\n",
       "   367.5525,\n",
       "   273.42,\n",
       "   288.204,\n",
       "   91.77,\n",
       "   174.3,\n",
       "   271.95,\n",
       "   217.6335,\n",
       "   655.5465,\n",
       "   794.6505,\n",
       "   545.37,\n",
       "   91.4025,\n",
       "   125.517,\n",
       "   44.352,\n",
       "   628.173,\n",
       "   628.929,\n",
       "   200.214,\n",
       "   350.07,\n",
       "   190.155,\n",
       "   40.9605,\n",
       "   146.9475,\n",
       "   218.0745,\n",
       "   185.094,\n",
       "   41.391,\n",
       "   96.138,\n",
       "   214.746,\n",
       "   411.3795,\n",
       "   565.215,\n",
       "   141.75,\n",
       "   339.36,\n",
       "   83.727,\n",
       "   406.875,\n",
       "   258.678,\n",
       "   359.205,\n",
       "   110.0925,\n",
       "   100.9155,\n",
       "   85.5855,\n",
       "   120.162,\n",
       "   390.7995,\n",
       "   20.1075,\n",
       "   28.4235,\n",
       "   26.25,\n",
       "   273.0525,\n",
       "   609.588,\n",
       "   205.317,\n",
       "   212.688,\n",
       "   321.7725,\n",
       "   288.015,\n",
       "   132.027,\n",
       "   160.209,\n",
       "   79.674,\n",
       "   550.368,\n",
       "   269.934,\n",
       "   145.971,\n",
       "   326.256,\n",
       "   217.182,\n",
       "   76.755,\n",
       "   293.139,\n",
       "   46.683,\n",
       "   867.09,\n",
       "   697.935,\n",
       "   212.7825,\n",
       "   442.323,\n",
       "   351.603,\n",
       "   75.474,\n",
       "   300.573,\n",
       "   231.2415,\n",
       "   282.576,\n",
       "   618.975,\n",
       "   510.615,\n",
       "   760.4415,\n",
       "   527.5095,\n",
       "   130.8825,\n",
       "   187.32,\n",
       "   239.4,\n",
       "   176.4,\n",
       "   860.475,\n",
       "   597.0405,\n",
       "   56.1225,\n",
       "   233.1,\n",
       "   631.1445,\n",
       "   480.0285,\n",
       "   183.12,\n",
       "   53.34,\n",
       "   57.6975,\n",
       "   190.4805,\n",
       "   287.91,\n",
       "   97.419,\n",
       "   18.6375,\n",
       "   90.3,\n",
       "   403.872,\n",
       "   216.4365,\n",
       "   681.4395,\n",
       "   262.794,\n",
       "   95.865,\n",
       "   390.9465,\n",
       "   503.7375,\n",
       "   362.817,\n",
       "   106.5015,\n",
       "   131.922,\n",
       "   439.215,\n",
       "   832.944,\n",
       "   629.16,\n",
       "   145.5825,\n",
       "   122.472,\n",
       "   888.405,\n",
       "   435.12,\n",
       "   374.409,\n",
       "   470.988,\n",
       "   579.8415,\n",
       "   290.0835,\n",
       "   266.6475,\n",
       "   74.088,\n",
       "   125.7165,\n",
       "   49.77,\n",
       "   244.23,\n",
       "   734.706,\n",
       "   30.996,\n",
       "   520.8,\n",
       "   633.108,\n",
       "   42.3675]],\n",
       " [[340.5255,\n",
       "   772.38,\n",
       "   84.63,\n",
       "   69.72,\n",
       "   441.756,\n",
       "   253.008,\n",
       "   91.056,\n",
       "   117.831,\n",
       "   33.936,\n",
       "   93.114,\n",
       "   759.675,\n",
       "   351.099,\n",
       "   705.6315,\n",
       "   198.996,\n",
       "   521.01,\n",
       "   548.7615,\n",
       "   763.4655,\n",
       "   112.224,\n",
       "   536.844,\n",
       "   688.6215,\n",
       "   216.846,\n",
       "   491.085,\n",
       "   603.624,\n",
       "   263.97,\n",
       "   1003.59,\n",
       "   319.788,\n",
       "   793.716,\n",
       "   195.174,\n",
       "   77.7735,\n",
       "   293.202,\n",
       "   242.676,\n",
       "   107.31,\n",
       "   26.5545,\n",
       "   93.2925,\n",
       "   299.565,\n",
       "   484.89,\n",
       "   19.194,\n",
       "   532.728,\n",
       "   263.13,\n",
       "   788.508,\n",
       "   399.756,\n",
       "   99.75,\n",
       "   494.76,\n",
       "   163.233,\n",
       "   148.974,\n",
       "   297.108,\n",
       "   373.17,\n",
       "   203.553,\n",
       "   25.263,\n",
       "   229.11,\n",
       "   587.664,\n",
       "   38.85,\n",
       "   78.603,\n",
       "   697.368,\n",
       "   493.794,\n",
       "   252.042,\n",
       "   93.0405,\n",
       "   745.836,\n",
       "   135.576,\n",
       "   208.089,\n",
       "   749.7,\n",
       "   255.15,\n",
       "   461.286,\n",
       "   276.948,\n",
       "   441.693,\n",
       "   352.2225,\n",
       "   334.341,\n",
       "   128.4255,\n",
       "   194.124,\n",
       "   14.679,\n",
       "   237.426,\n",
       "   427.812,\n",
       "   190.596,\n",
       "   951.825,\n",
       "   214.137,\n",
       "   843.0345,\n",
       "   527.751,\n",
       "   633.99,\n",
       "   24.108,\n",
       "   734.076,\n",
       "   127.26,\n",
       "   145.74,\n",
       "   100.485,\n",
       "   225.2775,\n",
       "   206.7975,\n",
       "   72.933,\n",
       "   523.971,\n",
       "   235.872,\n",
       "   148.68,\n",
       "   122.5245,\n",
       "   102.837,\n",
       "   96.642,\n",
       "   163.002,\n",
       "   118.062,\n",
       "   228.123,\n",
       "   430.71,\n",
       "   178.164,\n",
       "   147.672,\n",
       "   133.35,\n",
       "   695.2365,\n",
       "   167.895,\n",
       "   314.055,\n",
       "   182.952,\n",
       "   764.19,\n",
       "   103.11,\n",
       "   667.38,\n",
       "   458.6925,\n",
       "   261.198,\n",
       "   1023.75,\n",
       "   835.2855,\n",
       "   317.226,\n",
       "   138.978,\n",
       "   175.0455,\n",
       "   383.523,\n",
       "   596.82,\n",
       "   887.922,\n",
       "   408.7335,\n",
       "   79.149,\n",
       "   55.2825,\n",
       "   116.1405,\n",
       "   384.72,\n",
       "   608.076,\n",
       "   801.864,\n",
       "   72.009,\n",
       "   369.684,\n",
       "   1022.385,\n",
       "   63.9135,\n",
       "   455.1225,\n",
       "   325.374,\n",
       "   100.128,\n",
       "   299.3655,\n",
       "   118.902,\n",
       "   90.5835,\n",
       "   106.596,\n",
       "   375.3645,\n",
       "   97.818,\n",
       "   548.184,\n",
       "   216.846,\n",
       "   193.074,\n",
       "   329.196,\n",
       "   514.605,\n",
       "   782.208,\n",
       "   217.2555,\n",
       "   338.2155,\n",
       "   103.131,\n",
       "   26.733,\n",
       "   629.496,\n",
       "   397.845,\n",
       "   270.018,\n",
       "   479.64,\n",
       "   188.0025,\n",
       "   68.985,\n",
       "   415.233,\n",
       "   165.9,\n",
       "   314.685,\n",
       "   255.1815,\n",
       "   271.2885,\n",
       "   252.252,\n",
       "   1022.49,\n",
       "   69.111]],\n",
       " [[634.3785,\n",
       "   590.436,\n",
       "   457.443,\n",
       "   279.1845,\n",
       "   737.7615,\n",
       "   703.752,\n",
       "   71.526,\n",
       "   328.755,\n",
       "   435.456,\n",
       "   77.931,\n",
       "   520.4115,\n",
       "   166.005,\n",
       "   827.085,\n",
       "   256.7775,\n",
       "   610.491,\n",
       "   44.5935,\n",
       "   471.03,\n",
       "   161.553,\n",
       "   391.419,\n",
       "   34.629,\n",
       "   419.832,\n",
       "   944.622,\n",
       "   169.3125,\n",
       "   853.146,\n",
       "   580.419,\n",
       "   146.328,\n",
       "   545.055,\n",
       "   609.0,\n",
       "   942.9,\n",
       "   254.016,\n",
       "   680.148,\n",
       "   588.357,\n",
       "   66.8745,\n",
       "   160.44,\n",
       "   510.972,\n",
       "   162.75,\n",
       "   90.699,\n",
       "   120.645,\n",
       "   146.223,\n",
       "   217.6335,\n",
       "   130.0425,\n",
       "   183.036,\n",
       "   195.594,\n",
       "   30.219,\n",
       "   233.52,\n",
       "   57.1725,\n",
       "   723.24,\n",
       "   354.0075,\n",
       "   462.21,\n",
       "   16.107,\n",
       "   224.4375,\n",
       "   295.6905,\n",
       "   503.559,\n",
       "   410.508,\n",
       "   77.175,\n",
       "   365.085,\n",
       "   140.6475,\n",
       "   1002.12,\n",
       "   78.7185,\n",
       "   150.78,\n",
       "   701.8515,\n",
       "   345.786,\n",
       "   79.611,\n",
       "   548.73,\n",
       "   282.492,\n",
       "   45.927,\n",
       "   81.396,\n",
       "   353.1675,\n",
       "   937.818,\n",
       "   348.306,\n",
       "   742.812,\n",
       "   140.385,\n",
       "   41.076,\n",
       "   310.59,\n",
       "   572.775,\n",
       "   233.226,\n",
       "   168.21,\n",
       "   174.615,\n",
       "   360.885,\n",
       "   194.985,\n",
       "   388.29,\n",
       "   207.858,\n",
       "   637.728,\n",
       "   103.0365,\n",
       "   432.768,\n",
       "   77.6685,\n",
       "   195.951,\n",
       "   92.8725,\n",
       "   152.775,\n",
       "   666.939,\n",
       "   429.1665,\n",
       "   377.58,\n",
       "   479.9025,\n",
       "   926.9505,\n",
       "   84.756,\n",
       "   575.9775,\n",
       "   270.585,\n",
       "   517.965,\n",
       "   543.753,\n",
       "   280.035,\n",
       "   451.0275,\n",
       "   198.639,\n",
       "   226.065,\n",
       "   47.859,\n",
       "   236.88,\n",
       "   304.92,\n",
       "   440.937,\n",
       "   343.413,\n",
       "   84.9765,\n",
       "   365.904,\n",
       "   457.38,\n",
       "   127.827,\n",
       "   673.995,\n",
       "   32.529,\n",
       "   352.674,\n",
       "   146.6325,\n",
       "   135.3555,\n",
       "   125.979,\n",
       "   207.48,\n",
       "   85.302,\n",
       "   470.988,\n",
       "   36.5505,\n",
       "   145.404,\n",
       "   136.143,\n",
       "   153.048,\n",
       "   663.2955,\n",
       "   113.568,\n",
       "   80.955,\n",
       "   856.4535,\n",
       "   732.27,\n",
       "   150.423,\n",
       "   266.028,\n",
       "   86.247,\n",
       "   401.268,\n",
       "   499.7265,\n",
       "   98.049,\n",
       "   132.5625,\n",
       "   397.992,\n",
       "   432.9885,\n",
       "   257.145,\n",
       "   144.963,\n",
       "   195.678,\n",
       "   341.0925,\n",
       "   10.6785,\n",
       "   441.588,\n",
       "   92.442,\n",
       "   99.54,\n",
       "   281.169,\n",
       "   184.086,\n",
       "   82.887,\n",
       "   23.499,\n",
       "   26.796,\n",
       "   760.452,\n",
       "   271.278,\n",
       "   561.078,\n",
       "   335.895,\n",
       "   335.013,\n",
       "   807.66,\n",
       "   44.9925,\n",
       "   611.079,\n",
       "   221.886,\n",
       "   92.7255,\n",
       "   53.151,\n",
       "   469.77,\n",
       "   921.186,\n",
       "   804.3]]]"
      ]
     },
     "execution_count": 81,
     "metadata": {},
     "output_type": "execute_result"
    }
   ],
   "source": [
    "for idx,name in enumerate(loai_sp):\n",
    "    list_sp_theo_loai[idx].append([float(row[8]) for row in row_list if row[4] == name])\n",
    "list_sp_theo_loai"
   ]
  },
  {
   "cell_type": "code",
   "execution_count": 82,
   "id": "c742027e",
   "metadata": {},
   "outputs": [
    {
     "name": "stderr",
     "output_type": "stream",
     "text": [
      "C:\\Users\\Lenovo\\anaconda3\\lib\\site-packages\\numpy\\core\\fromnumeric.py:1970: VisibleDeprecationWarning: Creating an ndarray from ragged nested sequences (which is a list-or-tuple of lists-or-tuples-or ndarrays with different lengths or shapes) is deprecated. If you meant to do this, you must specify 'dtype=object' when creating the ndarray.\n",
      "  result = asarray(a).shape\n"
     ]
    },
    {
     "data": {
      "text/plain": [
       "(6, 1)"
      ]
     },
     "execution_count": 82,
     "metadata": {},
     "output_type": "execute_result"
    }
   ],
   "source": [
    "np.shape(list_sp_theo_loai)"
   ]
  },
  {
   "cell_type": "code",
   "execution_count": 83,
   "id": "f211dcac",
   "metadata": {},
   "outputs": [],
   "source": [
    "sum_tongdon_theo_loai_sp = []\n",
    "for idx in range(len(loai_sp)):\n",
    "    sum_tongdon_theo_loai_sp.append(np.sum(list_sp_theo_loai[idx][0]))\n",
    "sum_tongdon_theo_loai_sp = pd.Series(data= sum_tongdon_theo_loai_sp, dtype=float,name='Tổng đơn theo loại sản phẩm',index=loai_sp)"
   ]
  },
  {
   "cell_type": "code",
   "execution_count": 84,
   "id": "6e6049a0",
   "metadata": {},
   "outputs": [
    {
     "data": {
      "text/plain": [
       "Electronic accessories    54337.5315\n",
       "Fashion accessories       54305.8950\n",
       "Food and beverages        56144.8440\n",
       "Health and beauty         49193.7390\n",
       "Home and lifestyle        53861.9130\n",
       "Sports and travel         55122.8265\n",
       "Name: Tổng đơn theo loại sản phẩm, dtype: float64"
      ]
     },
     "execution_count": 84,
     "metadata": {},
     "output_type": "execute_result"
    }
   ],
   "source": [
    "sum_tongdon_theo_loai_sp"
   ]
  },
  {
   "cell_type": "code",
   "execution_count": 85,
   "id": "be08f702",
   "metadata": {},
   "outputs": [
    {
     "data": {
      "text/plain": [
       "count        6.000000\n",
       "mean     53827.791500\n",
       "std       2408.728819\n",
       "min      49193.739000\n",
       "25%      53972.908500\n",
       "50%      54321.713250\n",
       "75%      54926.502750\n",
       "max      56144.844000\n",
       "Name: Tổng đơn theo loại sản phẩm, dtype: float64"
      ]
     },
     "execution_count": 85,
     "metadata": {},
     "output_type": "execute_result"
    }
   ],
   "source": [
    "sum_tongdon_theo_loai_sp.describe()"
   ]
  },
  {
   "cell_type": "code",
   "execution_count": 86,
   "id": "eb902858",
   "metadata": {
    "scrolled": true
   },
   "outputs": [
    {
     "data": {
      "image/png": "[encoded data removed]",
      "text/plain": [
       "<Figure size 576x288 with 1 Axes>"
      ]
     },
     "metadata": {
      "needs_background": "light"
     },
     "output_type": "display_data"
    }
   ],
   "source": [
    "fig = plt.figure(figsize=(8,4))\n",
    "ax = fig.add_subplot()\n",
    "sum_tongdon_theo_loai_sp.plot(ax=ax,kind='bar',rot=20,color='tomato')\n",
    "ax.bar_label(container = ax.containers[0],label_type='center')\n",
    "ax.set_ylabel('Total',fontsize=14)\n",
    "ax.set_title('Tổng của tổng đơn theo loại sản phẩm',fontsize=16,weight='bold',color='r')\n",
    "plt.show()"
   ]
  },
  {
   "cell_type": "code",
   "execution_count": 87,
   "id": "f6fe75eb",
   "metadata": {},
   "outputs": [
    {
     "data": {
      "text/html": [
       "<div>\n",
       "<style scoped>\n",
       "    .dataframe tbody tr th:only-of-type {\n",
       "        vertical-align: middle;\n",
       "    }\n",
       "\n",
       "    .dataframe tbody tr th {\n",
       "        vertical-align: top;\n",
       "    }\n",
       "\n",
       "    .dataframe thead th {\n",
       "        text-align: right;\n",
       "    }\n",
       "</style>\n",
       "<table border=\"1\" class=\"dataframe\">\n",
       "  <thead>\n",
       "    <tr style=\"text-align: right;\">\n",
       "      <th></th>\n",
       "      <th>Invoice ID</th>\n",
       "      <th>City</th>\n",
       "      <th>Customer type</th>\n",
       "      <th>Gender</th>\n",
       "      <th>Product line</th>\n",
       "      <th>Unit price</th>\n",
       "      <th>Quantity</th>\n",
       "      <th>Tax 5%</th>\n",
       "      <th>Total</th>\n",
       "      <th>Date</th>\n",
       "      <th>Time</th>\n",
       "      <th>Payment</th>\n",
       "      <th>cogs</th>\n",
       "      <th>Rating</th>\n",
       "    </tr>\n",
       "  </thead>\n",
       "  <tbody>\n",
       "    <tr>\n",
       "      <th>0</th>\n",
       "      <td>750-67-8428</td>\n",
       "      <td>Hà Nội</td>\n",
       "      <td>Member</td>\n",
       "      <td>Nữ</td>\n",
       "      <td>Health and beauty</td>\n",
       "      <td>74.69</td>\n",
       "      <td>7</td>\n",
       "      <td>26.1415</td>\n",
       "      <td>548.9715</td>\n",
       "      <td>1/5/19</td>\n",
       "      <td>13:08</td>\n",
       "      <td>Ewallet</td>\n",
       "      <td>522.83</td>\n",
       "      <td>9.1</td>\n",
       "    </tr>\n",
       "    <tr>\n",
       "      <th>1</th>\n",
       "      <td>226-31-3081</td>\n",
       "      <td>TP HCM</td>\n",
       "      <td>Normal</td>\n",
       "      <td>Nữ</td>\n",
       "      <td>Electronic accessories</td>\n",
       "      <td>15.28</td>\n",
       "      <td>5</td>\n",
       "      <td>3.8200</td>\n",
       "      <td>80.2200</td>\n",
       "      <td>3/8/19</td>\n",
       "      <td>10:29</td>\n",
       "      <td>Cash</td>\n",
       "      <td>76.40</td>\n",
       "      <td>9.6</td>\n",
       "    </tr>\n",
       "    <tr>\n",
       "      <th>2</th>\n",
       "      <td>631-41-3108</td>\n",
       "      <td>Hà Nội</td>\n",
       "      <td>Normal</td>\n",
       "      <td>Nam</td>\n",
       "      <td>Home and lifestyle</td>\n",
       "      <td>46.33</td>\n",
       "      <td>7</td>\n",
       "      <td>16.2155</td>\n",
       "      <td>340.5255</td>\n",
       "      <td>3/3/19</td>\n",
       "      <td>13:23</td>\n",
       "      <td>Credit card</td>\n",
       "      <td>324.31</td>\n",
       "      <td>7.4</td>\n",
       "    </tr>\n",
       "    <tr>\n",
       "      <th>3</th>\n",
       "      <td>123-19-1176</td>\n",
       "      <td>Hà Nội</td>\n",
       "      <td>Member</td>\n",
       "      <td>Nam</td>\n",
       "      <td>Health and beauty</td>\n",
       "      <td>58.22</td>\n",
       "      <td>8</td>\n",
       "      <td>23.2880</td>\n",
       "      <td>489.0480</td>\n",
       "      <td>1/27/19</td>\n",
       "      <td>20:33</td>\n",
       "      <td>Ewallet</td>\n",
       "      <td>465.76</td>\n",
       "      <td>8.4</td>\n",
       "    </tr>\n",
       "    <tr>\n",
       "      <th>4</th>\n",
       "      <td>373-73-7910</td>\n",
       "      <td>Hà Nội</td>\n",
       "      <td>Normal</td>\n",
       "      <td>Nam</td>\n",
       "      <td>Sports and travel</td>\n",
       "      <td>86.31</td>\n",
       "      <td>7</td>\n",
       "      <td>30.2085</td>\n",
       "      <td>634.3785</td>\n",
       "      <td>2/8/19</td>\n",
       "      <td>10:37</td>\n",
       "      <td>Ewallet</td>\n",
       "      <td>604.17</td>\n",
       "      <td>5.3</td>\n",
       "    </tr>\n",
       "  </tbody>\n",
       "</table>\n",
       "</div>"
      ],
      "text/plain": [
       "    Invoice ID    City Customer type Gender            Product line  \\\n",
       "0  750-67-8428  Hà Nội        Member     Nữ       Health and beauty   \n",
       "1  226-31-3081  TP HCM        Normal     Nữ  Electronic accessories   \n",
       "2  631-41-3108  Hà Nội        Normal    Nam      Home and lifestyle   \n",
       "3  123-19-1176  Hà Nội        Member    Nam       Health and beauty   \n",
       "4  373-73-7910  Hà Nội        Normal    Nam       Sports and travel   \n",
       "\n",
       "   Unit price  Quantity   Tax 5%     Total     Date   Time      Payment  \\\n",
       "0       74.69         7  26.1415  548.9715   1/5/19  13:08      Ewallet   \n",
       "1       15.28         5   3.8200   80.2200   3/8/19  10:29         Cash   \n",
       "2       46.33         7  16.2155  340.5255   3/3/19  13:23  Credit card   \n",
       "3       58.22         8  23.2880  489.0480  1/27/19  20:33      Ewallet   \n",
       "4       86.31         7  30.2085  634.3785   2/8/19  10:37      Ewallet   \n",
       "\n",
       "     cogs  Rating  \n",
       "0  522.83     9.1  \n",
       "1   76.40     9.6  \n",
       "2  324.31     7.4  \n",
       "3  465.76     8.4  \n",
       "4  604.17     5.3  "
      ]
     },
     "execution_count": 87,
     "metadata": {},
     "output_type": "execute_result"
    }
   ],
   "source": [
    "file = pd.read_csv('supermarket_sales_vn.csv')\n",
    "file.head()"
   ]
  },
  {
   "cell_type": "code",
   "execution_count": 88,
   "id": "27372aff",
   "metadata": {},
   "outputs": [
    {
     "data": {
      "text/html": [
       "<div>\n",
       "<style scoped>\n",
       "    .dataframe tbody tr th:only-of-type {\n",
       "        vertical-align: middle;\n",
       "    }\n",
       "\n",
       "    .dataframe tbody tr th {\n",
       "        vertical-align: top;\n",
       "    }\n",
       "\n",
       "    .dataframe thead th {\n",
       "        text-align: right;\n",
       "    }\n",
       "</style>\n",
       "<table border=\"1\" class=\"dataframe\">\n",
       "  <thead>\n",
       "    <tr style=\"text-align: right;\">\n",
       "      <th></th>\n",
       "      <th>Total</th>\n",
       "    </tr>\n",
       "    <tr>\n",
       "      <th>Product line</th>\n",
       "      <th></th>\n",
       "    </tr>\n",
       "  </thead>\n",
       "  <tbody>\n",
       "    <tr>\n",
       "      <th>Electronic accessories</th>\n",
       "      <td>54337.5315</td>\n",
       "    </tr>\n",
       "    <tr>\n",
       "      <th>Fashion accessories</th>\n",
       "      <td>54305.8950</td>\n",
       "    </tr>\n",
       "    <tr>\n",
       "      <th>Food and beverages</th>\n",
       "      <td>56144.8440</td>\n",
       "    </tr>\n",
       "    <tr>\n",
       "      <th>Health and beauty</th>\n",
       "      <td>49193.7390</td>\n",
       "    </tr>\n",
       "    <tr>\n",
       "      <th>Home and lifestyle</th>\n",
       "      <td>53861.9130</td>\n",
       "    </tr>\n",
       "    <tr>\n",
       "      <th>Sports and travel</th>\n",
       "      <td>55122.8265</td>\n",
       "    </tr>\n",
       "  </tbody>\n",
       "</table>\n",
       "</div>"
      ],
      "text/plain": [
       "                             Total\n",
       "Product line                      \n",
       "Electronic accessories  54337.5315\n",
       "Fashion accessories     54305.8950\n",
       "Food and beverages      56144.8440\n",
       "Health and beauty       49193.7390\n",
       "Home and lifestyle      53861.9130\n",
       "Sports and travel       55122.8265"
      ]
     },
     "execution_count": 88,
     "metadata": {},
     "output_type": "execute_result"
    }
   ],
   "source": [
    "file[['Product line','Total']].groupby('Product line').sum()"
   ]
  }
 ],
 "metadata": {
  "kernelspec": {
   "display_name": "Python 3 (ipykernel)",
   "language": "python",
   "name": "python3"
  },
  "language_info": {
   "codemirror_mode": {
    "name": "ipython",
    "version": 3
   },
   "file_extension": ".py",
   "mimetype": "text/x-python",
   "name": "python",
   "nbconvert_exporter": "python",
   "pygments_lexer": "ipython3",
   "version": "3.8.8"
  }
 },
 "nbformat": 4,
 "nbformat_minor": 5
}
