{
 "cells": [
  {
   "cell_type": "code",
   "execution_count": 39,
   "id": "29be7e8b",
   "metadata": {},
   "outputs": [],
   "source": [
    "import pandas as pd\n",
    "import numpy as np\n",
    "from matplotlib import pyplot as plt\n",
    "np.set_printoptions(precision=3, suppress=True)"
   ]
  },
  {
   "cell_type": "markdown",
   "id": "f2cb787c",
   "metadata": {},
   "source": [
    "## Phân tích EDA cho dữ liệu product trong ' order_products_prior.csv ' :\n",
    "1. Tìm tên 10 sản phẩm bán được nhiều nhất và vẽ biểu đồ\n",
    "2. Tìm tên 10 sản phẩm được re - ordered nhiều nhất và vẽ biểu đồ\n",
    "3. Thống kê số lượng sản phẩm bán được của các department và vẽ biểu đồ\n",
    "  - Biểu đồ cột\n",
    "  - Biểu đồ tree - map"
   ]
  },
  {
   "cell_type": "markdown",
   "id": "83c6ccc1",
   "metadata": {},
   "source": [
    "### 1. Tìm tên 10 sản phẩm bán được nhiều nhất và vẽ biểu đồ"
   ]
  },
  {
   "cell_type": "markdown",
   "id": "abae8406",
   "metadata": {},
   "source": [
    "+ Đọc file 'order_products__prior.csv' gồm các features: \n",
    "     order_id,\tproduct_id,\tadd_to_cart_order,\treordered\n",
    "+ File này gần 32 triệu dòng, nên chia dữ liệu thành các chunk (tập dữ liệu nhỏ), mỗi chunk gồm 500000 dòng"
   ]
  },
  {
   "cell_type": "code",
   "execution_count": 57,
   "id": "7bf4cf2b",
   "metadata": {},
   "outputs": [
    {
     "data": {
      "text/html": [
       "<div>\n",
       "<style scoped>\n",
       "    .dataframe tbody tr th:only-of-type {\n",
       "        vertical-align: middle;\n",
       "    }\n",
       "\n",
       "    .dataframe tbody tr th {\n",
       "        vertical-align: top;\n",
       "    }\n",
       "\n",
       "    .dataframe thead th {\n",
       "        text-align: right;\n",
       "    }\n",
       "</style>\n",
       "<table border=\"1\" class=\"dataframe\">\n",
       "  <thead>\n",
       "    <tr style=\"text-align: right;\">\n",
       "      <th></th>\n",
       "      <th>product_id</th>\n",
       "      <th>reordered</th>\n",
       "    </tr>\n",
       "  </thead>\n",
       "  <tbody>\n",
       "    <tr>\n",
       "      <th>0</th>\n",
       "      <td>33120</td>\n",
       "      <td>1</td>\n",
       "    </tr>\n",
       "    <tr>\n",
       "      <th>1</th>\n",
       "      <td>28985</td>\n",
       "      <td>1</td>\n",
       "    </tr>\n",
       "    <tr>\n",
       "      <th>2</th>\n",
       "      <td>9327</td>\n",
       "      <td>0</td>\n",
       "    </tr>\n",
       "    <tr>\n",
       "      <th>3</th>\n",
       "      <td>45918</td>\n",
       "      <td>1</td>\n",
       "    </tr>\n",
       "    <tr>\n",
       "      <th>4</th>\n",
       "      <td>30035</td>\n",
       "      <td>0</td>\n",
       "    </tr>\n",
       "  </tbody>\n",
       "</table>\n",
       "</div>"
      ],
      "text/plain": [
       "   product_id  reordered\n",
       "0       33120          1\n",
       "1       28985          1\n",
       "2        9327          0\n",
       "3       45918          1\n",
       "4       30035          0"
      ]
     },
     "execution_count": 57,
     "metadata": {},
     "output_type": "execute_result"
    }
   ],
   "source": [
    "file_path_order = 'data/order_products__prior.csv'\n",
    "N = 5e5\n",
    "order_products = pd.read_csv(file_path_order, chunksize=N, usecols=['product_id','reordered'])\n",
    "# Ở đây mình chỉ dùng columns ['product_id'] trong file 'order_products__prior.csv' vì mỗi lần \n",
    "# mua hàng thì đếm số lần xuất hiện của từng product\n",
    "chunk = next(order_products)\n",
    "chunk.head()"
   ]
  },
  {
   "cell_type": "markdown",
   "id": "7dc0d245",
   "metadata": {},
   "source": [
    "+ Đọc file 'products.csv' gồm các features: product_id,\tproduct_name,\taisle_id,\tdepartment_id\n",
    "+ Mục đích: để map các product_id với department_id tương ứng"
   ]
  },
  {
   "cell_type": "code",
   "execution_count": 41,
   "id": "ef93897e",
   "metadata": {},
   "outputs": [
    {
     "data": {
      "text/html": [
       "<div>\n",
       "<style scoped>\n",
       "    .dataframe tbody tr th:only-of-type {\n",
       "        vertical-align: middle;\n",
       "    }\n",
       "\n",
       "    .dataframe tbody tr th {\n",
       "        vertical-align: top;\n",
       "    }\n",
       "\n",
       "    .dataframe thead th {\n",
       "        text-align: right;\n",
       "    }\n",
       "</style>\n",
       "<table border=\"1\" class=\"dataframe\">\n",
       "  <thead>\n",
       "    <tr style=\"text-align: right;\">\n",
       "      <th></th>\n",
       "      <th>product_id</th>\n",
       "      <th>product_name</th>\n",
       "      <th>aisle_id</th>\n",
       "      <th>department_id</th>\n",
       "    </tr>\n",
       "  </thead>\n",
       "  <tbody>\n",
       "    <tr>\n",
       "      <th>0</th>\n",
       "      <td>1</td>\n",
       "      <td>Chocolate Sandwich Cookies</td>\n",
       "      <td>61</td>\n",
       "      <td>19</td>\n",
       "    </tr>\n",
       "    <tr>\n",
       "      <th>1</th>\n",
       "      <td>2</td>\n",
       "      <td>All-Seasons Salt</td>\n",
       "      <td>104</td>\n",
       "      <td>13</td>\n",
       "    </tr>\n",
       "    <tr>\n",
       "      <th>2</th>\n",
       "      <td>3</td>\n",
       "      <td>Robust Golden Unsweetened Oolong Tea</td>\n",
       "      <td>94</td>\n",
       "      <td>7</td>\n",
       "    </tr>\n",
       "    <tr>\n",
       "      <th>3</th>\n",
       "      <td>4</td>\n",
       "      <td>Smart Ones Classic Favorites Mini Rigatoni Wit...</td>\n",
       "      <td>38</td>\n",
       "      <td>1</td>\n",
       "    </tr>\n",
       "    <tr>\n",
       "      <th>4</th>\n",
       "      <td>5</td>\n",
       "      <td>Green Chile Anytime Sauce</td>\n",
       "      <td>5</td>\n",
       "      <td>13</td>\n",
       "    </tr>\n",
       "  </tbody>\n",
       "</table>\n",
       "</div>"
      ],
      "text/plain": [
       "   product_id                                       product_name  aisle_id  \\\n",
       "0           1                         Chocolate Sandwich Cookies        61   \n",
       "1           2                                   All-Seasons Salt       104   \n",
       "2           3               Robust Golden Unsweetened Oolong Tea        94   \n",
       "3           4  Smart Ones Classic Favorites Mini Rigatoni Wit...        38   \n",
       "4           5                          Green Chile Anytime Sauce         5   \n",
       "\n",
       "   department_id  \n",
       "0             19  \n",
       "1             13  \n",
       "2              7  \n",
       "3              1  \n",
       "4             13  "
      ]
     },
     "execution_count": 41,
     "metadata": {},
     "output_type": "execute_result"
    }
   ],
   "source": [
    "file_path_product = 'data/products.csv'\n",
    "product_info = pd.read_csv(file_path_product)\n",
    "product_info.head()"
   ]
  },
  {
   "cell_type": "markdown",
   "id": "526793a0",
   "metadata": {},
   "source": [
    "###### Hàm select_product(chunk):\n",
    "- Truyền vô từng chunk \n",
    "- Merge từng chunk với dữ liệu product_info, dùng key là 'product_id' để map\n",
    "- Đếm số lần xuất hiện của product_name"
   ]
  },
  {
   "cell_type": "code",
   "execution_count": 42,
   "id": "cd267c94",
   "metadata": {},
   "outputs": [],
   "source": [
    "def select_product(chunk):\n",
    "    product = product_info[['product_id','product_name']] # chỉ lấy ra thông tin\n",
    "                                                    # 2 cột 'product_id','product_name'\n",
    "    order_product = pd.merge(chunk,product,\n",
    "                        on='product_id')['product_name'] # merge chunk với product_name thông \n",
    "                                                    # qua key 'product_id' và chỉ lấy ra cột 'product_name'\n",
    "    product_count = order_product.value_counts().reset_index() # Đếm số lần xuất hiện của 'product_name'\n",
    "    product_count.columns = ['product_name','counts']\n",
    "    return product_count\n",
    "\n",
    "total_product_count = select_product(chunk)"
   ]
  },
  {
   "cell_type": "code",
   "execution_count": 43,
   "id": "2eaf05ea",
   "metadata": {},
   "outputs": [
    {
     "data": {
      "text/plain": [
       "(1893779, 2)"
      ]
     },
     "execution_count": 43,
     "metadata": {},
     "output_type": "execute_result"
    }
   ],
   "source": [
    "# for loop lặp qua từng chunk của order_products (file 32 triệu dòng)\n",
    "# và concat với lại biến trả về của hàm select_product\n",
    "for i,chunk in enumerate(order_products):\n",
    "    chunk_count =  select_product(chunk)\n",
    "    total_product_count = pd.concat([total_product_count,chunk_count])\n",
    "total_product_count.shape"
   ]
  },
  {
   "cell_type": "code",
   "execution_count": 34,
   "id": "184dc783",
   "metadata": {},
   "outputs": [
    {
     "data": {
      "text/html": [
       "<div>\n",
       "<style scoped>\n",
       "    .dataframe tbody tr th:only-of-type {\n",
       "        vertical-align: middle;\n",
       "    }\n",
       "\n",
       "    .dataframe tbody tr th {\n",
       "        vertical-align: top;\n",
       "    }\n",
       "\n",
       "    .dataframe thead th {\n",
       "        text-align: right;\n",
       "    }\n",
       "</style>\n",
       "<table border=\"1\" class=\"dataframe\">\n",
       "  <thead>\n",
       "    <tr style=\"text-align: right;\">\n",
       "      <th></th>\n",
       "      <th>product_name</th>\n",
       "      <th>counts</th>\n",
       "    </tr>\n",
       "  </thead>\n",
       "  <tbody>\n",
       "    <tr>\n",
       "      <th>0</th>\n",
       "      <td>Banana</td>\n",
       "      <td>7365</td>\n",
       "    </tr>\n",
       "    <tr>\n",
       "      <th>1</th>\n",
       "      <td>Bag of Organic Bananas</td>\n",
       "      <td>5920</td>\n",
       "    </tr>\n",
       "    <tr>\n",
       "      <th>2</th>\n",
       "      <td>Organic Strawberries</td>\n",
       "      <td>4023</td>\n",
       "    </tr>\n",
       "    <tr>\n",
       "      <th>3</th>\n",
       "      <td>Organic Baby Spinach</td>\n",
       "      <td>3797</td>\n",
       "    </tr>\n",
       "    <tr>\n",
       "      <th>4</th>\n",
       "      <td>Organic Hass Avocado</td>\n",
       "      <td>3317</td>\n",
       "    </tr>\n",
       "  </tbody>\n",
       "</table>\n",
       "</div>"
      ],
      "text/plain": [
       "             product_name  counts\n",
       "0                  Banana    7365\n",
       "1  Bag of Organic Bananas    5920\n",
       "2    Organic Strawberries    4023\n",
       "3    Organic Baby Spinach    3797\n",
       "4    Organic Hass Avocado    3317"
      ]
     },
     "execution_count": 34,
     "metadata": {},
     "output_type": "execute_result"
    }
   ],
   "source": [
    "total_product_count.head()"
   ]
  },
  {
   "cell_type": "code",
   "execution_count": 21,
   "id": "6228a28f",
   "metadata": {},
   "outputs": [
    {
     "name": "stdout",
     "output_type": "stream",
     "text": [
      "(49677, 2)\n"
     ]
    },
    {
     "data": {
      "text/html": [
       "<div>\n",
       "<style scoped>\n",
       "    .dataframe tbody tr th:only-of-type {\n",
       "        vertical-align: middle;\n",
       "    }\n",
       "\n",
       "    .dataframe tbody tr th {\n",
       "        vertical-align: top;\n",
       "    }\n",
       "\n",
       "    .dataframe thead th {\n",
       "        text-align: right;\n",
       "    }\n",
       "</style>\n",
       "<table border=\"1\" class=\"dataframe\">\n",
       "  <thead>\n",
       "    <tr style=\"text-align: right;\">\n",
       "      <th></th>\n",
       "      <th>product_name</th>\n",
       "      <th>counts</th>\n",
       "    </tr>\n",
       "  </thead>\n",
       "  <tbody>\n",
       "    <tr>\n",
       "      <th>0</th>\n",
       "      <td>#2 Coffee Filters</td>\n",
       "      <td>777</td>\n",
       "    </tr>\n",
       "    <tr>\n",
       "      <th>1</th>\n",
       "      <td>#2 Cone White Coffee Filters</td>\n",
       "      <td>13</td>\n",
       "    </tr>\n",
       "    <tr>\n",
       "      <th>2</th>\n",
       "      <td>#2 Mechanical Pencils</td>\n",
       "      <td>8</td>\n",
       "    </tr>\n",
       "    <tr>\n",
       "      <th>3</th>\n",
       "      <td>#4 Natural Brown Coffee Filters</td>\n",
       "      <td>241</td>\n",
       "    </tr>\n",
       "    <tr>\n",
       "      <th>4</th>\n",
       "      <td>&amp; Go! Hazelnut Spread + Pretzel Sticks</td>\n",
       "      <td>164</td>\n",
       "    </tr>\n",
       "  </tbody>\n",
       "</table>\n",
       "</div>"
      ],
      "text/plain": [
       "                             product_name  counts\n",
       "0                       #2 Coffee Filters     777\n",
       "1            #2 Cone White Coffee Filters      13\n",
       "2                   #2 Mechanical Pencils       8\n",
       "3         #4 Natural Brown Coffee Filters     241\n",
       "4  & Go! Hazelnut Spread + Pretzel Sticks     164"
      ]
     },
     "execution_count": 21,
     "metadata": {},
     "output_type": "execute_result"
    }
   ],
   "source": [
    "total_product_count = total_product_count.groupby('product_name').sum().reset_index()\n",
    "print(total_product_count.shape)\n",
    "total_product_count.head()"
   ]
  },
  {
   "cell_type": "code",
   "execution_count": 22,
   "id": "ea626e97",
   "metadata": {},
   "outputs": [
    {
     "data": {
      "text/html": [
       "<div>\n",
       "<style scoped>\n",
       "    .dataframe tbody tr th:only-of-type {\n",
       "        vertical-align: middle;\n",
       "    }\n",
       "\n",
       "    .dataframe tbody tr th {\n",
       "        vertical-align: top;\n",
       "    }\n",
       "\n",
       "    .dataframe thead th {\n",
       "        text-align: right;\n",
       "    }\n",
       "</style>\n",
       "<table border=\"1\" class=\"dataframe\">\n",
       "  <thead>\n",
       "    <tr style=\"text-align: right;\">\n",
       "      <th></th>\n",
       "      <th>product_name</th>\n",
       "      <th>counts</th>\n",
       "    </tr>\n",
       "  </thead>\n",
       "  <tbody>\n",
       "    <tr>\n",
       "      <th>3676</th>\n",
       "      <td>Banana</td>\n",
       "      <td>472565</td>\n",
       "    </tr>\n",
       "    <tr>\n",
       "      <th>3471</th>\n",
       "      <td>Bag of Organic Bananas</td>\n",
       "      <td>379450</td>\n",
       "    </tr>\n",
       "    <tr>\n",
       "      <th>31920</th>\n",
       "      <td>Organic Strawberries</td>\n",
       "      <td>264683</td>\n",
       "    </tr>\n",
       "    <tr>\n",
       "      <th>28840</th>\n",
       "      <td>Organic Baby Spinach</td>\n",
       "      <td>241921</td>\n",
       "    </tr>\n",
       "    <tr>\n",
       "      <th>30297</th>\n",
       "      <td>Organic Hass Avocado</td>\n",
       "      <td>213584</td>\n",
       "    </tr>\n",
       "    <tr>\n",
       "      <th>28804</th>\n",
       "      <td>Organic Avocado</td>\n",
       "      <td>176815</td>\n",
       "    </tr>\n",
       "    <tr>\n",
       "      <th>22413</th>\n",
       "      <td>Large Lemon</td>\n",
       "      <td>152657</td>\n",
       "    </tr>\n",
       "    <tr>\n",
       "      <th>42904</th>\n",
       "      <td>Strawberries</td>\n",
       "      <td>142951</td>\n",
       "    </tr>\n",
       "    <tr>\n",
       "      <th>23420</th>\n",
       "      <td>Limes</td>\n",
       "      <td>140627</td>\n",
       "    </tr>\n",
       "    <tr>\n",
       "      <th>32478</th>\n",
       "      <td>Organic Whole Milk</td>\n",
       "      <td>137905</td>\n",
       "    </tr>\n",
       "  </tbody>\n",
       "</table>\n",
       "</div>"
      ],
      "text/plain": [
       "                 product_name  counts\n",
       "3676                   Banana  472565\n",
       "3471   Bag of Organic Bananas  379450\n",
       "31920    Organic Strawberries  264683\n",
       "28840    Organic Baby Spinach  241921\n",
       "30297    Organic Hass Avocado  213584\n",
       "28804         Organic Avocado  176815\n",
       "22413             Large Lemon  152657\n",
       "42904            Strawberries  142951\n",
       "23420                   Limes  140627\n",
       "32478      Organic Whole Milk  137905"
      ]
     },
     "execution_count": 22,
     "metadata": {},
     "output_type": "execute_result"
    }
   ],
   "source": [
    "top10_sel_product = total_product_count.nlargest(10,\n",
    "                                          columns='counts')\n",
    "top10_sel_product"
   ]
  },
  {
   "cell_type": "code",
   "execution_count": 27,
   "id": "eba2cc3d",
   "metadata": {},
   "outputs": [
    {
     "data": {
      "image/png": "[encoded data removed]",
      "text/plain": [
       "<Figure size 864x432 with 1 Axes>"
      ]
     },
     "metadata": {
      "needs_background": "light"
     },
     "output_type": "display_data"
    }
   ],
   "source": [
    "ax = top10_sel_product.plot.bar(x='product_name', y='counts', width=0.8, figsize=(12,6), \n",
    "                           color='tomato', legend=None, rot=-60,\n",
    "                               edgecolor = 'black',linewidth = 1.25)\n",
    "ax.bar_label(container=ax.containers[0], label_type='center', fontsize=9.5, rotation=60)\n",
    "ax.set_title('Top 10 products bán được nhiều nhất',fontsize=20,color='blue',weight='bold')\n",
    "ax.set_xlabel('Products',fontsize=18,color='blue')\n",
    "ax.set_ylabel('Counts',fontsize=18,color='blue')\n",
    "ax.spines['top'].set_visible(False)\n",
    "ax.spines['right'].set_visible(False)\n",
    "plt.show()\n",
    "plt.close()"
   ]
  },
  {
   "cell_type": "markdown",
   "id": "05077d01",
   "metadata": {},
   "source": [
    "### 2. Tìm tên 10 sản phẩm được re - ordered nhiều nhất và vẽ biểu đồ\n",
    "+ Tương tự như bài 1 nhưng lần này ta sẽ lọc reordered dựa trên product_id"
   ]
  },
  {
   "cell_type": "code",
   "execution_count": 72,
   "id": "85a47f89",
   "metadata": {},
   "outputs": [
    {
     "data": {
      "text/html": [
       "<div>\n",
       "<style scoped>\n",
       "    .dataframe tbody tr th:only-of-type {\n",
       "        vertical-align: middle;\n",
       "    }\n",
       "\n",
       "    .dataframe tbody tr th {\n",
       "        vertical-align: top;\n",
       "    }\n",
       "\n",
       "    .dataframe thead th {\n",
       "        text-align: right;\n",
       "    }\n",
       "</style>\n",
       "<table border=\"1\" class=\"dataframe\">\n",
       "  <thead>\n",
       "    <tr style=\"text-align: right;\">\n",
       "      <th></th>\n",
       "      <th>product_id</th>\n",
       "      <th>reordered</th>\n",
       "    </tr>\n",
       "  </thead>\n",
       "  <tbody>\n",
       "    <tr>\n",
       "      <th>0</th>\n",
       "      <td>33120</td>\n",
       "      <td>1</td>\n",
       "    </tr>\n",
       "    <tr>\n",
       "      <th>1</th>\n",
       "      <td>28985</td>\n",
       "      <td>1</td>\n",
       "    </tr>\n",
       "    <tr>\n",
       "      <th>2</th>\n",
       "      <td>9327</td>\n",
       "      <td>0</td>\n",
       "    </tr>\n",
       "    <tr>\n",
       "      <th>3</th>\n",
       "      <td>45918</td>\n",
       "      <td>1</td>\n",
       "    </tr>\n",
       "    <tr>\n",
       "      <th>4</th>\n",
       "      <td>30035</td>\n",
       "      <td>0</td>\n",
       "    </tr>\n",
       "  </tbody>\n",
       "</table>\n",
       "</div>"
      ],
      "text/plain": [
       "   product_id  reordered\n",
       "0       33120          1\n",
       "1       28985          1\n",
       "2        9327          0\n",
       "3       45918          1\n",
       "4       30035          0"
      ]
     },
     "execution_count": 72,
     "metadata": {},
     "output_type": "execute_result"
    }
   ],
   "source": [
    "file_path_order = 'data/order_products__prior.csv'\n",
    "N = 5e5\n",
    "order_products = pd.read_csv(file_path_order, chunksize=N, usecols=['product_id','reordered'])\n",
    "# Ở đây mình chỉ dùng columns ['product_id'] trong file 'order_products__prior.csv' vì mỗi lần \n",
    "# mua hàng thì đếm số lần xuất hiện của từng product\n",
    "chunk = next(order_products)\n",
    "chunk.head()"
   ]
  },
  {
   "cell_type": "code",
   "execution_count": 73,
   "id": "cba8fcc9",
   "metadata": {},
   "outputs": [
    {
     "data": {
      "text/plain": [
       "(500000, 3)"
      ]
     },
     "execution_count": 73,
     "metadata": {},
     "output_type": "execute_result"
    }
   ],
   "source": [
    "def select_product(chunk):\n",
    "    product = product_info[['product_id','product_name']]\n",
    "    order_product = pd.merge(chunk,product, on='product_id')\n",
    "    return order_product\n",
    "total_product_count = select_product(chunk)\n",
    "total_product_count.shape"
   ]
  },
  {
   "cell_type": "code",
   "execution_count": 74,
   "id": "ab161b6d",
   "metadata": {},
   "outputs": [
    {
     "data": {
      "text/plain": [
       "(32434489, 3)"
      ]
     },
     "execution_count": 74,
     "metadata": {},
     "output_type": "execute_result"
    }
   ],
   "source": [
    "for i,chunk in enumerate(order_products):\n",
    "    chunk_count =  select_product(chunk)\n",
    "    total_product_count = pd.concat([total_product_count,chunk_count])\n",
    "total_product_count.shape"
   ]
  },
  {
   "cell_type": "code",
   "execution_count": 75,
   "id": "7fc4d8b7",
   "metadata": {},
   "outputs": [
    {
     "data": {
      "text/html": [
       "<div>\n",
       "<style scoped>\n",
       "    .dataframe tbody tr th:only-of-type {\n",
       "        vertical-align: middle;\n",
       "    }\n",
       "\n",
       "    .dataframe tbody tr th {\n",
       "        vertical-align: top;\n",
       "    }\n",
       "\n",
       "    .dataframe thead th {\n",
       "        text-align: right;\n",
       "    }\n",
       "</style>\n",
       "<table border=\"1\" class=\"dataframe\">\n",
       "  <thead>\n",
       "    <tr style=\"text-align: right;\">\n",
       "      <th></th>\n",
       "      <th>reordered</th>\n",
       "      <th>product_name</th>\n",
       "    </tr>\n",
       "  </thead>\n",
       "  <tbody>\n",
       "    <tr>\n",
       "      <th>0</th>\n",
       "      <td>1</td>\n",
       "      <td>Organic Egg Whites</td>\n",
       "    </tr>\n",
       "    <tr>\n",
       "      <th>1</th>\n",
       "      <td>0</td>\n",
       "      <td>Organic Egg Whites</td>\n",
       "    </tr>\n",
       "    <tr>\n",
       "      <th>2</th>\n",
       "      <td>0</td>\n",
       "      <td>Organic Egg Whites</td>\n",
       "    </tr>\n",
       "    <tr>\n",
       "      <th>3</th>\n",
       "      <td>1</td>\n",
       "      <td>Organic Egg Whites</td>\n",
       "    </tr>\n",
       "    <tr>\n",
       "      <th>4</th>\n",
       "      <td>1</td>\n",
       "      <td>Organic Egg Whites</td>\n",
       "    </tr>\n",
       "  </tbody>\n",
       "</table>\n",
       "</div>"
      ],
      "text/plain": [
       "   reordered        product_name\n",
       "0          1  Organic Egg Whites\n",
       "1          0  Organic Egg Whites\n",
       "2          0  Organic Egg Whites\n",
       "3          1  Organic Egg Whites\n",
       "4          1  Organic Egg Whites"
      ]
     },
     "execution_count": 75,
     "metadata": {},
     "output_type": "execute_result"
    }
   ],
   "source": [
    "total_product_count.drop(['product_id'], axis=1, inplace=True)\n",
    "total_product_count.head()"
   ]
  },
  {
   "cell_type": "code",
   "execution_count": 76,
   "id": "8743ee67",
   "metadata": {},
   "outputs": [
    {
     "data": {
      "text/plain": [
       "(45305, 2)"
      ]
     },
     "execution_count": 76,
     "metadata": {},
     "output_type": "execute_result"
    }
   ],
   "source": [
    "total_product_count = total_product_count[total_product_count['reordered']==1]\n",
    "total_product_count = total_product_count.groupby('product_name').sum().reset_index()\n",
    "total_product_count.shape"
   ]
  },
  {
   "cell_type": "code",
   "execution_count": 78,
   "id": "36777c43",
   "metadata": {},
   "outputs": [
    {
     "data": {
      "text/html": [
       "<div>\n",
       "<style scoped>\n",
       "    .dataframe tbody tr th:only-of-type {\n",
       "        vertical-align: middle;\n",
       "    }\n",
       "\n",
       "    .dataframe tbody tr th {\n",
       "        vertical-align: top;\n",
       "    }\n",
       "\n",
       "    .dataframe thead th {\n",
       "        text-align: right;\n",
       "    }\n",
       "</style>\n",
       "<table border=\"1\" class=\"dataframe\">\n",
       "  <thead>\n",
       "    <tr style=\"text-align: right;\">\n",
       "      <th></th>\n",
       "      <th>product_name</th>\n",
       "      <th>reordered</th>\n",
       "    </tr>\n",
       "  </thead>\n",
       "  <tbody>\n",
       "    <tr>\n",
       "      <th>0</th>\n",
       "      <td>#2 Coffee Filters</td>\n",
       "      <td>257</td>\n",
       "    </tr>\n",
       "    <tr>\n",
       "      <th>1</th>\n",
       "      <td>#2 Cone White Coffee Filters</td>\n",
       "      <td>3</td>\n",
       "    </tr>\n",
       "    <tr>\n",
       "      <th>2</th>\n",
       "      <td>#4 Natural Brown Coffee Filters</td>\n",
       "      <td>89</td>\n",
       "    </tr>\n",
       "    <tr>\n",
       "      <th>3</th>\n",
       "      <td>&amp; Go! Hazelnut Spread + Pretzel Sticks</td>\n",
       "      <td>87</td>\n",
       "    </tr>\n",
       "    <tr>\n",
       "      <th>4</th>\n",
       "      <td>(70% Juice!) Mountain Raspberry Juice Squeeze</td>\n",
       "      <td>16</td>\n",
       "    </tr>\n",
       "  </tbody>\n",
       "</table>\n",
       "</div>"
      ],
      "text/plain": [
       "                                    product_name  reordered\n",
       "0                              #2 Coffee Filters        257\n",
       "1                   #2 Cone White Coffee Filters          3\n",
       "2                #4 Natural Brown Coffee Filters         89\n",
       "3         & Go! Hazelnut Spread + Pretzel Sticks         87\n",
       "4  (70% Juice!) Mountain Raspberry Juice Squeeze         16"
      ]
     },
     "execution_count": 78,
     "metadata": {},
     "output_type": "execute_result"
    }
   ],
   "source": [
    "total_product_count.head()"
   ]
  },
  {
   "cell_type": "code",
   "execution_count": 79,
   "id": "82551ced",
   "metadata": {},
   "outputs": [
    {
     "data": {
      "text/html": [
       "<div>\n",
       "<style scoped>\n",
       "    .dataframe tbody tr th:only-of-type {\n",
       "        vertical-align: middle;\n",
       "    }\n",
       "\n",
       "    .dataframe tbody tr th {\n",
       "        vertical-align: top;\n",
       "    }\n",
       "\n",
       "    .dataframe thead th {\n",
       "        text-align: right;\n",
       "    }\n",
       "</style>\n",
       "<table border=\"1\" class=\"dataframe\">\n",
       "  <thead>\n",
       "    <tr style=\"text-align: right;\">\n",
       "      <th></th>\n",
       "      <th>product_name</th>\n",
       "      <th>reordered</th>\n",
       "    </tr>\n",
       "  </thead>\n",
       "  <tbody>\n",
       "    <tr>\n",
       "      <th>3247</th>\n",
       "      <td>Banana</td>\n",
       "      <td>398609</td>\n",
       "    </tr>\n",
       "    <tr>\n",
       "      <th>3058</th>\n",
       "      <td>Bag of Organic Bananas</td>\n",
       "      <td>315913</td>\n",
       "    </tr>\n",
       "    <tr>\n",
       "      <th>29079</th>\n",
       "      <td>Organic Strawberries</td>\n",
       "      <td>205845</td>\n",
       "    </tr>\n",
       "    <tr>\n",
       "      <th>26151</th>\n",
       "      <td>Organic Baby Spinach</td>\n",
       "      <td>186884</td>\n",
       "    </tr>\n",
       "    <tr>\n",
       "      <th>27532</th>\n",
       "      <td>Organic Hass Avocado</td>\n",
       "      <td>170131</td>\n",
       "    </tr>\n",
       "    <tr>\n",
       "      <th>26116</th>\n",
       "      <td>Organic Avocado</td>\n",
       "      <td>134044</td>\n",
       "    </tr>\n",
       "    <tr>\n",
       "      <th>29597</th>\n",
       "      <td>Organic Whole Milk</td>\n",
       "      <td>114510</td>\n",
       "    </tr>\n",
       "    <tr>\n",
       "      <th>20302</th>\n",
       "      <td>Large Lemon</td>\n",
       "      <td>106255</td>\n",
       "    </tr>\n",
       "    <tr>\n",
       "      <th>28550</th>\n",
       "      <td>Organic Raspberries</td>\n",
       "      <td>105409</td>\n",
       "    </tr>\n",
       "    <tr>\n",
       "      <th>39135</th>\n",
       "      <td>Strawberries</td>\n",
       "      <td>99802</td>\n",
       "    </tr>\n",
       "  </tbody>\n",
       "</table>\n",
       "</div>"
      ],
      "text/plain": [
       "                 product_name  reordered\n",
       "3247                   Banana     398609\n",
       "3058   Bag of Organic Bananas     315913\n",
       "29079    Organic Strawberries     205845\n",
       "26151    Organic Baby Spinach     186884\n",
       "27532    Organic Hass Avocado     170131\n",
       "26116         Organic Avocado     134044\n",
       "29597      Organic Whole Milk     114510\n",
       "20302             Large Lemon     106255\n",
       "28550     Organic Raspberries     105409\n",
       "39135            Strawberries      99802"
      ]
     },
     "execution_count": 79,
     "metadata": {},
     "output_type": "execute_result"
    }
   ],
   "source": [
    "top_10reorderd = total_product_count.nlargest(10,'reordered')\n",
    "top_10reorderd"
   ]
  },
  {
   "cell_type": "code",
   "execution_count": 91,
   "id": "b4a36e5b",
   "metadata": {},
   "outputs": [
    {
     "data": {
      "image/png": "[encoded data removed]",
      "text/plain": [
       "<Figure size 864x432 with 1 Axes>"
      ]
     },
     "metadata": {
      "needs_background": "light"
     },
     "output_type": "display_data"
    }
   ],
   "source": [
    "ax = top_10reorderd.plot.barh(x='product_name', y='reordered', width=0.8, figsize=(12,6), \n",
    "                           color='tomato', legend=None, rot=0,\n",
    "                               edgecolor = 'black',linewidth = 1.25)\n",
    "ax.bar_label(container=ax.containers[0], label_type='center', fontsize=9.5, rotation=0)\n",
    "ax.set_title('Top 10 products reordered được nhiều nhất',fontsize=20,color='blue',weight='bold')\n",
    "ax.set_xlabel('Re oredered',fontsize=18,color='blue')\n",
    "ax.set_ylabel('Products',fontsize=18,color='blue')\n",
    "ax.spines['top'].set_visible(False)\n",
    "ax.spines['right'].set_visible(False)\n",
    "plt.show()\n",
    "plt.close()"
   ]
  },
  {
   "cell_type": "markdown",
   "id": "ce15429f",
   "metadata": {},
   "source": [
    "### 3.Thống kê số lượng sản phẩm bán được của các department và vẽ biểu đồ\n",
    "+ Biểu đồ cột\n",
    "+ Biểu đồ tree - map"
   ]
  },
  {
   "cell_type": "code",
   "execution_count": 92,
   "id": "2c9fbe10",
   "metadata": {},
   "outputs": [
    {
     "data": {
      "text/html": [
       "<div>\n",
       "<style scoped>\n",
       "    .dataframe tbody tr th:only-of-type {\n",
       "        vertical-align: middle;\n",
       "    }\n",
       "\n",
       "    .dataframe tbody tr th {\n",
       "        vertical-align: top;\n",
       "    }\n",
       "\n",
       "    .dataframe thead th {\n",
       "        text-align: right;\n",
       "    }\n",
       "</style>\n",
       "<table border=\"1\" class=\"dataframe\">\n",
       "  <thead>\n",
       "    <tr style=\"text-align: right;\">\n",
       "      <th></th>\n",
       "      <th>product_id</th>\n",
       "    </tr>\n",
       "  </thead>\n",
       "  <tbody>\n",
       "    <tr>\n",
       "      <th>0</th>\n",
       "      <td>33120</td>\n",
       "    </tr>\n",
       "    <tr>\n",
       "      <th>1</th>\n",
       "      <td>28985</td>\n",
       "    </tr>\n",
       "    <tr>\n",
       "      <th>2</th>\n",
       "      <td>9327</td>\n",
       "    </tr>\n",
       "    <tr>\n",
       "      <th>3</th>\n",
       "      <td>45918</td>\n",
       "    </tr>\n",
       "    <tr>\n",
       "      <th>4</th>\n",
       "      <td>30035</td>\n",
       "    </tr>\n",
       "  </tbody>\n",
       "</table>\n",
       "</div>"
      ],
      "text/plain": [
       "   product_id\n",
       "0       33120\n",
       "1       28985\n",
       "2        9327\n",
       "3       45918\n",
       "4       30035"
      ]
     },
     "execution_count": 92,
     "metadata": {},
     "output_type": "execute_result"
    }
   ],
   "source": [
    "file_path_order = 'data/order_products__prior.csv'\n",
    "N = 5e5\n",
    "order_products = pd.read_csv(file_path_order, chunksize=N, usecols=['product_id'])\n",
    "# Ở đây mình chỉ dùng columns ['product_id'] trong file 'order_products__prior.csv' vì mỗi lần \n",
    "# mua hàng thì đếm số lần xuất hiện của từng product\n",
    "chunk = next(order_products)\n",
    "chunk.head()"
   ]
  },
  {
   "cell_type": "code",
   "execution_count": 93,
   "id": "4465d041",
   "metadata": {},
   "outputs": [
    {
     "data": {
      "text/html": [
       "<div>\n",
       "<style scoped>\n",
       "    .dataframe tbody tr th:only-of-type {\n",
       "        vertical-align: middle;\n",
       "    }\n",
       "\n",
       "    .dataframe tbody tr th {\n",
       "        vertical-align: top;\n",
       "    }\n",
       "\n",
       "    .dataframe thead th {\n",
       "        text-align: right;\n",
       "    }\n",
       "</style>\n",
       "<table border=\"1\" class=\"dataframe\">\n",
       "  <thead>\n",
       "    <tr style=\"text-align: right;\">\n",
       "      <th></th>\n",
       "      <th>product_id</th>\n",
       "      <th>product_name</th>\n",
       "      <th>aisle_id</th>\n",
       "      <th>department_id</th>\n",
       "    </tr>\n",
       "  </thead>\n",
       "  <tbody>\n",
       "    <tr>\n",
       "      <th>0</th>\n",
       "      <td>1</td>\n",
       "      <td>Chocolate Sandwich Cookies</td>\n",
       "      <td>61</td>\n",
       "      <td>19</td>\n",
       "    </tr>\n",
       "    <tr>\n",
       "      <th>1</th>\n",
       "      <td>2</td>\n",
       "      <td>All-Seasons Salt</td>\n",
       "      <td>104</td>\n",
       "      <td>13</td>\n",
       "    </tr>\n",
       "    <tr>\n",
       "      <th>2</th>\n",
       "      <td>3</td>\n",
       "      <td>Robust Golden Unsweetened Oolong Tea</td>\n",
       "      <td>94</td>\n",
       "      <td>7</td>\n",
       "    </tr>\n",
       "    <tr>\n",
       "      <th>3</th>\n",
       "      <td>4</td>\n",
       "      <td>Smart Ones Classic Favorites Mini Rigatoni Wit...</td>\n",
       "      <td>38</td>\n",
       "      <td>1</td>\n",
       "    </tr>\n",
       "    <tr>\n",
       "      <th>4</th>\n",
       "      <td>5</td>\n",
       "      <td>Green Chile Anytime Sauce</td>\n",
       "      <td>5</td>\n",
       "      <td>13</td>\n",
       "    </tr>\n",
       "  </tbody>\n",
       "</table>\n",
       "</div>"
      ],
      "text/plain": [
       "   product_id                                       product_name  aisle_id  \\\n",
       "0           1                         Chocolate Sandwich Cookies        61   \n",
       "1           2                                   All-Seasons Salt       104   \n",
       "2           3               Robust Golden Unsweetened Oolong Tea        94   \n",
       "3           4  Smart Ones Classic Favorites Mini Rigatoni Wit...        38   \n",
       "4           5                          Green Chile Anytime Sauce         5   \n",
       "\n",
       "   department_id  \n",
       "0             19  \n",
       "1             13  \n",
       "2              7  \n",
       "3              1  \n",
       "4             13  "
      ]
     },
     "execution_count": 93,
     "metadata": {},
     "output_type": "execute_result"
    }
   ],
   "source": [
    "file_path_product = 'data/products.csv'\n",
    "product_info = pd.read_csv(file_path_product)\n",
    "product_info.head()"
   ]
  },
  {
   "cell_type": "code",
   "execution_count": 94,
   "id": "d779fa00",
   "metadata": {},
   "outputs": [
    {
     "data": {
      "text/plain": [
       "(1365, 2)"
      ]
     },
     "execution_count": 94,
     "metadata": {},
     "output_type": "execute_result"
    }
   ],
   "source": [
    "def select_depID(chunk):\n",
    "    product_dep_id = product_info[['product_id','department_id']] # chỉ lấy ra thông tin\n",
    "                                                    # 2 cột 'product_id','department_id'\n",
    "    order_dep = pd.merge(chunk,product_dep_id,\n",
    "                        on='product_id')['department_id'] # merge chunk với product_dep_id thông \n",
    "                                                    # qua key 'product_id' và chỉ lấy ra cột 'department_id'\n",
    "    dep_count = order_dep.value_counts().reset_index() # Đếm số lần xuất hiện của 'department_id'\n",
    "    dep_count.columns = ['department_id','counts']\n",
    "    return dep_count\n",
    "\n",
    "total_dep_count = select_depID(chunk)\n",
    "\n",
    "# for loop lặp qua từng chunk của order_products (file 32 triệu dòng)\n",
    "# và concat với lại biến trả về của hàm select_depID\n",
    "for i,chunk in enumerate(order_products):\n",
    "    chunk_count =  select_depID(chunk)\n",
    "    total_dep_count = pd.concat([total_dep_count,chunk_count])\n",
    "total_dep_count.shape"
   ]
  },
  {
   "cell_type": "code",
   "execution_count": 95,
   "id": "7d7736a4",
   "metadata": {},
   "outputs": [],
   "source": [
    "total_dep_count = total_dep_count.groupby('department_id').sum().reset_index()"
   ]
  },
  {
   "cell_type": "code",
   "execution_count": 96,
   "id": "af13ea10",
   "metadata": {},
   "outputs": [
    {
     "data": {
      "text/html": [
       "<div>\n",
       "<style scoped>\n",
       "    .dataframe tbody tr th:only-of-type {\n",
       "        vertical-align: middle;\n",
       "    }\n",
       "\n",
       "    .dataframe tbody tr th {\n",
       "        vertical-align: top;\n",
       "    }\n",
       "\n",
       "    .dataframe thead th {\n",
       "        text-align: right;\n",
       "    }\n",
       "</style>\n",
       "<table border=\"1\" class=\"dataframe\">\n",
       "  <thead>\n",
       "    <tr style=\"text-align: right;\">\n",
       "      <th></th>\n",
       "      <th>department_id</th>\n",
       "      <th>counts</th>\n",
       "    </tr>\n",
       "  </thead>\n",
       "  <tbody>\n",
       "    <tr>\n",
       "      <th>3</th>\n",
       "      <td>4</td>\n",
       "      <td>9479291</td>\n",
       "    </tr>\n",
       "    <tr>\n",
       "      <th>15</th>\n",
       "      <td>16</td>\n",
       "      <td>5414016</td>\n",
       "    </tr>\n",
       "    <tr>\n",
       "      <th>18</th>\n",
       "      <td>19</td>\n",
       "      <td>2887550</td>\n",
       "    </tr>\n",
       "    <tr>\n",
       "      <th>6</th>\n",
       "      <td>7</td>\n",
       "      <td>2690129</td>\n",
       "    </tr>\n",
       "    <tr>\n",
       "      <th>0</th>\n",
       "      <td>1</td>\n",
       "      <td>2236432</td>\n",
       "    </tr>\n",
       "    <tr>\n",
       "      <th>12</th>\n",
       "      <td>13</td>\n",
       "      <td>1875577</td>\n",
       "    </tr>\n",
       "    <tr>\n",
       "      <th>2</th>\n",
       "      <td>3</td>\n",
       "      <td>1176787</td>\n",
       "    </tr>\n",
       "    <tr>\n",
       "      <th>14</th>\n",
       "      <td>15</td>\n",
       "      <td>1068058</td>\n",
       "    </tr>\n",
       "    <tr>\n",
       "      <th>19</th>\n",
       "      <td>20</td>\n",
       "      <td>1051249</td>\n",
       "    </tr>\n",
       "    <tr>\n",
       "      <th>8</th>\n",
       "      <td>9</td>\n",
       "      <td>866627</td>\n",
       "    </tr>\n",
       "  </tbody>\n",
       "</table>\n",
       "</div>"
      ],
      "text/plain": [
       "    department_id   counts\n",
       "3               4  9479291\n",
       "15             16  5414016\n",
       "18             19  2887550\n",
       "6               7  2690129\n",
       "0               1  2236432\n",
       "12             13  1875577\n",
       "2               3  1176787\n",
       "14             15  1068058\n",
       "19             20  1051249\n",
       "8               9   866627"
      ]
     },
     "execution_count": 96,
     "metadata": {},
     "output_type": "execute_result"
    }
   ],
   "source": [
    "top10_sel_depID = total_dep_count.nlargest(10,\n",
    "                                          columns='counts')\n",
    "top10_sel_depID"
   ]
  },
  {
   "cell_type": "code",
   "execution_count": 97,
   "id": "ca68134c",
   "metadata": {},
   "outputs": [
    {
     "data": {
      "text/html": [
       "<div>\n",
       "<style scoped>\n",
       "    .dataframe tbody tr th:only-of-type {\n",
       "        vertical-align: middle;\n",
       "    }\n",
       "\n",
       "    .dataframe tbody tr th {\n",
       "        vertical-align: top;\n",
       "    }\n",
       "\n",
       "    .dataframe thead th {\n",
       "        text-align: right;\n",
       "    }\n",
       "</style>\n",
       "<table border=\"1\" class=\"dataframe\">\n",
       "  <thead>\n",
       "    <tr style=\"text-align: right;\">\n",
       "      <th></th>\n",
       "      <th>department_id</th>\n",
       "      <th>department</th>\n",
       "    </tr>\n",
       "  </thead>\n",
       "  <tbody>\n",
       "    <tr>\n",
       "      <th>0</th>\n",
       "      <td>1</td>\n",
       "      <td>frozen</td>\n",
       "    </tr>\n",
       "    <tr>\n",
       "      <th>1</th>\n",
       "      <td>2</td>\n",
       "      <td>other</td>\n",
       "    </tr>\n",
       "    <tr>\n",
       "      <th>2</th>\n",
       "      <td>3</td>\n",
       "      <td>bakery</td>\n",
       "    </tr>\n",
       "    <tr>\n",
       "      <th>3</th>\n",
       "      <td>4</td>\n",
       "      <td>produce</td>\n",
       "    </tr>\n",
       "    <tr>\n",
       "      <th>4</th>\n",
       "      <td>5</td>\n",
       "      <td>alcohol</td>\n",
       "    </tr>\n",
       "  </tbody>\n",
       "</table>\n",
       "</div>"
      ],
      "text/plain": [
       "   department_id department\n",
       "0              1     frozen\n",
       "1              2      other\n",
       "2              3     bakery\n",
       "3              4    produce\n",
       "4              5    alcohol"
      ]
     },
     "execution_count": 97,
     "metadata": {},
     "output_type": "execute_result"
    }
   ],
   "source": [
    "file_name_dep = 'data/departments.csv' # file chứa tên của department\n",
    "dep_info = pd.read_csv(file_name_dep)\n",
    "dep_info.head()"
   ]
  },
  {
   "cell_type": "code",
   "execution_count": 98,
   "id": "93d0f7b3",
   "metadata": {},
   "outputs": [
    {
     "data": {
      "text/html": [
       "<div>\n",
       "<style scoped>\n",
       "    .dataframe tbody tr th:only-of-type {\n",
       "        vertical-align: middle;\n",
       "    }\n",
       "\n",
       "    .dataframe tbody tr th {\n",
       "        vertical-align: top;\n",
       "    }\n",
       "\n",
       "    .dataframe thead th {\n",
       "        text-align: right;\n",
       "    }\n",
       "</style>\n",
       "<table border=\"1\" class=\"dataframe\">\n",
       "  <thead>\n",
       "    <tr style=\"text-align: right;\">\n",
       "      <th></th>\n",
       "      <th>department_id</th>\n",
       "      <th>counts</th>\n",
       "      <th>department</th>\n",
       "    </tr>\n",
       "  </thead>\n",
       "  <tbody>\n",
       "    <tr>\n",
       "      <th>0</th>\n",
       "      <td>4</td>\n",
       "      <td>9479291</td>\n",
       "      <td>produce</td>\n",
       "    </tr>\n",
       "    <tr>\n",
       "      <th>1</th>\n",
       "      <td>16</td>\n",
       "      <td>5414016</td>\n",
       "      <td>dairy eggs</td>\n",
       "    </tr>\n",
       "    <tr>\n",
       "      <th>2</th>\n",
       "      <td>19</td>\n",
       "      <td>2887550</td>\n",
       "      <td>snacks</td>\n",
       "    </tr>\n",
       "    <tr>\n",
       "      <th>3</th>\n",
       "      <td>7</td>\n",
       "      <td>2690129</td>\n",
       "      <td>beverages</td>\n",
       "    </tr>\n",
       "    <tr>\n",
       "      <th>4</th>\n",
       "      <td>1</td>\n",
       "      <td>2236432</td>\n",
       "      <td>frozen</td>\n",
       "    </tr>\n",
       "    <tr>\n",
       "      <th>5</th>\n",
       "      <td>13</td>\n",
       "      <td>1875577</td>\n",
       "      <td>pantry</td>\n",
       "    </tr>\n",
       "    <tr>\n",
       "      <th>6</th>\n",
       "      <td>3</td>\n",
       "      <td>1176787</td>\n",
       "      <td>bakery</td>\n",
       "    </tr>\n",
       "    <tr>\n",
       "      <th>7</th>\n",
       "      <td>15</td>\n",
       "      <td>1068058</td>\n",
       "      <td>canned goods</td>\n",
       "    </tr>\n",
       "    <tr>\n",
       "      <th>8</th>\n",
       "      <td>20</td>\n",
       "      <td>1051249</td>\n",
       "      <td>deli</td>\n",
       "    </tr>\n",
       "    <tr>\n",
       "      <th>9</th>\n",
       "      <td>9</td>\n",
       "      <td>866627</td>\n",
       "      <td>dry goods pasta</td>\n",
       "    </tr>\n",
       "  </tbody>\n",
       "</table>\n",
       "</div>"
      ],
      "text/plain": [
       "   department_id   counts       department\n",
       "0              4  9479291          produce\n",
       "1             16  5414016       dairy eggs\n",
       "2             19  2887550           snacks\n",
       "3              7  2690129        beverages\n",
       "4              1  2236432           frozen\n",
       "5             13  1875577           pantry\n",
       "6              3  1176787           bakery\n",
       "7             15  1068058     canned goods\n",
       "8             20  1051249             deli\n",
       "9              9   866627  dry goods pasta"
      ]
     },
     "execution_count": 98,
     "metadata": {},
     "output_type": "execute_result"
    }
   ],
   "source": [
    "top10_sel_depName = pd.merge(top10_sel_depID, dep_info,\n",
    "                            on='department_id') # merge tên department theo department_id\n",
    "top10_sel_depName"
   ]
  },
  {
   "cell_type": "code",
   "execution_count": 99,
   "id": "12db3e81",
   "metadata": {},
   "outputs": [
    {
     "data": {
      "image/png": "[encoded data removed]",
      "text/plain": [
       "<Figure size 936x576 with 1 Axes>"
      ]
     },
     "metadata": {
      "needs_background": "light"
     },
     "output_type": "display_data"
    }
   ],
   "source": [
    "ax = top10_sel_depName.plot.bar(x='department', y='counts', width=0.8, figsize=(13,8), \n",
    "                           color='tomato', legend=None, rot=-60,\n",
    "                               edgecolor = 'black',linewidth = 1.25)\n",
    "ax.bar_label(container=ax.containers[0], label_type='center', fontsize=9.5, rotation=60)\n",
    "ax.set_title('Top 10 departments bán được nhiều sản phẩm nhất',fontsize=20,color='blue',weight='bold')\n",
    "ax.set_xlabel('Department',fontsize=18,color='blue')\n",
    "ax.set_ylabel('Counts',fontsize=18,color='blue')\n",
    "ax.set_xticks(top10_sel_depName.index-0.3)\n",
    "ax.spines['top'].set_visible(False)\n",
    "ax.spines['right'].set_visible(False)\n",
    "ax.set_xticklabels(top10_sel_depName['department'], ha='left',fontsize=12)\n",
    "plt.show()\n",
    "plt.close()"
   ]
  },
  {
   "cell_type": "code",
   "execution_count": null,
   "id": "9baa2a2d",
   "metadata": {},
   "outputs": [],
   "source": []
  },
  {
   "cell_type": "code",
   "execution_count": 100,
   "id": "6f9fd2f6",
   "metadata": {},
   "outputs": [],
   "source": [
    "N = 10 \n",
    "top_sel_depID = total_dep_count.nlargest(N, columns='counts')\n",
    "top_sel_depName = pd.merge(top10_sel_depID, dep_info,\n",
    "                            on='department_id') # merge tên department theo department_id"
   ]
  },
  {
   "cell_type": "code",
   "execution_count": 101,
   "id": "08218226",
   "metadata": {},
   "outputs": [
    {
     "data": {
      "text/html": [
       "<div>\n",
       "<style scoped>\n",
       "    .dataframe tbody tr th:only-of-type {\n",
       "        vertical-align: middle;\n",
       "    }\n",
       "\n",
       "    .dataframe tbody tr th {\n",
       "        vertical-align: top;\n",
       "    }\n",
       "\n",
       "    .dataframe thead th {\n",
       "        text-align: right;\n",
       "    }\n",
       "</style>\n",
       "<table border=\"1\" class=\"dataframe\">\n",
       "  <thead>\n",
       "    <tr style=\"text-align: right;\">\n",
       "      <th></th>\n",
       "      <th>counts</th>\n",
       "      <th>department</th>\n",
       "    </tr>\n",
       "  </thead>\n",
       "  <tbody>\n",
       "    <tr>\n",
       "      <th>0</th>\n",
       "      <td>9479291</td>\n",
       "      <td>produce</td>\n",
       "    </tr>\n",
       "    <tr>\n",
       "      <th>1</th>\n",
       "      <td>5414016</td>\n",
       "      <td>dairy eggs</td>\n",
       "    </tr>\n",
       "    <tr>\n",
       "      <th>2</th>\n",
       "      <td>2887550</td>\n",
       "      <td>snacks</td>\n",
       "    </tr>\n",
       "    <tr>\n",
       "      <th>3</th>\n",
       "      <td>2690129</td>\n",
       "      <td>beverages</td>\n",
       "    </tr>\n",
       "    <tr>\n",
       "      <th>4</th>\n",
       "      <td>2236432</td>\n",
       "      <td>frozen</td>\n",
       "    </tr>\n",
       "    <tr>\n",
       "      <th>5</th>\n",
       "      <td>1875577</td>\n",
       "      <td>pantry</td>\n",
       "    </tr>\n",
       "    <tr>\n",
       "      <th>6</th>\n",
       "      <td>1176787</td>\n",
       "      <td>bakery</td>\n",
       "    </tr>\n",
       "    <tr>\n",
       "      <th>7</th>\n",
       "      <td>1068058</td>\n",
       "      <td>canned goods</td>\n",
       "    </tr>\n",
       "    <tr>\n",
       "      <th>8</th>\n",
       "      <td>1051249</td>\n",
       "      <td>deli</td>\n",
       "    </tr>\n",
       "    <tr>\n",
       "      <th>9</th>\n",
       "      <td>866627</td>\n",
       "      <td>dry goods pasta</td>\n",
       "    </tr>\n",
       "    <tr>\n",
       "      <th>10</th>\n",
       "      <td>3688773</td>\n",
       "      <td>others</td>\n",
       "    </tr>\n",
       "  </tbody>\n",
       "</table>\n",
       "</div>"
      ],
      "text/plain": [
       "     counts       department\n",
       "0   9479291          produce\n",
       "1   5414016       dairy eggs\n",
       "2   2887550           snacks\n",
       "3   2690129        beverages\n",
       "4   2236432           frozen\n",
       "5   1875577           pantry\n",
       "6   1176787           bakery\n",
       "7   1068058     canned goods\n",
       "8   1051249             deli\n",
       "9    866627  dry goods pasta\n",
       "10  3688773           others"
      ]
     },
     "execution_count": 101,
     "metadata": {},
     "output_type": "execute_result"
    }
   ],
   "source": [
    "other_dep_count = total_dep_count.nsmallest(len(total_dep_count)-N,columns='counts')\n",
    "sum_other_dep = other_dep_count['counts'].sum()\n",
    "df_other_dep = pd.DataFrame(data=[[sum_other_dep,'others']], columns=['counts','department'],)\n",
    "\n",
    "total_dep = top_sel_depName.copy()\n",
    "total_dep.pop('department_id')\n",
    "total_dep = pd.concat([total_dep, df_other_dep]).reset_index(drop=True)\n",
    "total_dep"
   ]
  },
  {
   "cell_type": "code",
   "execution_count": 102,
   "id": "293b6925",
   "metadata": {},
   "outputs": [
    {
     "data": {
      "image/png": "[encoded data removed]",
      "text/plain": [
       "<Figure size 1008x432 with 1 Axes>"
      ]
     },
     "metadata": {
      "needs_background": "light"
     },
     "output_type": "display_data"
    }
   ],
   "source": [
    "import squarify\n",
    "fig = plt.figure(figsize=(14,6))\n",
    "ax = fig.add_subplot(1,1,1)\n",
    "ax.set_title('Top sell products', fontsize=16, weight='bold',color='darkblue')\n",
    "squarify.plot(sizes=total_dep['counts'],label=total_dep['department'],ax=ax,pad=True,\n",
    "             value=total_dep['counts'])\n",
    "plt.show()"
   ]
  },
  {
   "cell_type": "code",
   "execution_count": null,
   "id": "0c94fc07",
   "metadata": {},
   "outputs": [],
   "source": []
  }
 ],
 "metadata": {
  "kernelspec": {
   "display_name": "Python 3 (ipykernel)",
   "language": "python",
   "name": "python3"
  },
  "language_info": {
   "codemirror_mode": {
    "name": "ipython",
    "version": 3
   },
   "file_extension": ".py",
   "mimetype": "text/x-python",
   "name": "python",
   "nbconvert_exporter": "python",
   "pygments_lexer": "ipython3",
   "version": "3.8.8"
  }
 },
 "nbformat": 4,
 "nbformat_minor": 5
}
